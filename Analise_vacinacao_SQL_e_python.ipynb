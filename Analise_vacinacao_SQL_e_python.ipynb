{
 "cells": [
  {
   "cell_type": "markdown",
   "source": [
    "# Analisando dados de vacinação contra a covid-19 com SQL e python\r\n",
    "### Autor: Luiz Carlos"
   ],
   "metadata": {}
  },
  {
   "cell_type": "markdown",
   "source": [
    "## Introdução  \r\n",
    "\r\n",
    "\" Vacinação contra a Covid: Mais de 55% dos brasileiros estão parcialmente imunizados e mais de 25% completaram o esquema vacinal \" \r\n",
    "    É comum encontrarmos noticiários com a manchete mencionada acima, a qual indica o status da vacinação no país. Contudo, por trás desses números relativamente pequenos, se escondem números incrivelmente altos. Se pararmos para analisar sobre os números absolutos das doses aplicadas em todo o Brasil, veremos que refletem o esforço e trabalho de muitos profissionais. \r\n",
    "    Até o momento desta análise, o Brasil se encontra na faixa de 200 milhões de doses aplicadas. No entanto, é provável que esse número já esteja desatualizado, devido a alta quantidade de doses aplicadas diariamente.  \r\n",
    "    \r\n",
    "## Objetivo da análise\r\n",
    "   Este material tem o propósito de aprendizagem, com o intuito de colocar em prática conceitos sobre a linguagem SQL, Python e análise de dados.\r\n",
    "Nesta análise serão respondidas questões como:\r\n",
    "  * Número total de doses de vacinas aplicadas no Brasil?\r\n",
    "  * Número total de doses de vacinas aplicadas nos estados brasileiros?\r\n",
    "  * Número total da 1º doses de vacinas aplicadas?\r\n",
    "  * Número total de pessoas completamente vacinadas no Brasil?\r\n",
    "  * Relação de pessoas completamente vacinadas no Brasil x população de outros países.\r\n",
    "  * Relação entre covid-19 e Vacinação.\r\n",
    "  \r\n",
    "## Considerações\r\n",
    "\r\n",
    "Gostaria de deixar claro que a manchete será ideal ou ótima, quando: \"Vacinação contra a Covid: 100% dos brasileiros estão completamente imunizados e nenhuma morte por covid tem sido registrada até o momento\".  \r\n",
    "\r\n",
    "O objetivo desta análise não apresenta nenhum viés político. Os dados sobre a vacinação foram analisados somente como forma de aplicação de conceitos e para sanar uma curiosidade a respeito dos números absolutos por trás da porcentagem mencionada nas manchetes.   \r\n",
    "\r\n",
    "Aproveito para deixar o meu agradecimento a todos os cientistas, instituições de pesquisa e profissionais da saúde que estiveram ou estão envolvidos de alguma forma com a covid-19. O trabalho de vocês é e está sendo essencial no combate à pandemia. \r\n",
    "\r\n",
    "  "
   ],
   "metadata": {}
  },
  {
   "cell_type": "code",
   "execution_count": 2,
   "source": [
    "# Importando as bibliotecas para análise dos dados com python e SQL.\r\n",
    "import pandas as pd\r\n",
    "import numpy as np\r\n",
    "import matplotlib.pyplot as plt\r\n",
    "import seaborn as sns\r\n",
    "import sqlite3\r\n",
    "from sqlite3 import Error\r\n",
    "\r\n",
    "# Padronizando alguns parâmetros.\r\n",
    "pd.set_option('display.max_columns', None, 'display.min_rows', 50)\r\n",
    "pd.options.display.float_format = '{:,.2f}'.format\r\n",
    "plt.rcParams['figure.figsize'] = (16, 10)\r\n",
    "sns.set()"
   ],
   "outputs": [],
   "metadata": {}
  },
  {
   "cell_type": "markdown",
   "source": [
    "## Criando uma conexão com o banco de dados:"
   ],
   "metadata": {}
  },
  {
   "cell_type": "code",
   "execution_count": 3,
   "source": [
    "# Criando conexão com o banco de dados SQLite3:\r\n",
    "try:\r\n",
    "    '''Criando uma conexão com o banco de dados e um cursor para executar as queries no BD. \r\n",
    "    Certifique-se de inserir corretamente o nome do banco de dados e o endereço do diretório do BD como\r\n",
    "    parâmetro da função. Exemplo: .connect('endereço_diretório/nome_aquivo.db')'''\r\n",
    "    connection = sqlite3.connect('covid.db')\r\n",
    "    cursor = connection.cursor()\r\n",
    "    cursor.execute('SELECT sqlite_version()')\r\n",
    "    BD_version = cursor.fetchall()\r\n",
    "    print(f\"Conexão estabelecida com o BD SQLite, versão: {BD_version[0][0]},\\nObjeto de conexão criado e armazenado em {connection}\")\r\n",
    "    \r\n",
    "except Error as e:\r\n",
    "    print(f\"Erro '{e}': Verifique se o nome e endereço do banco de dados estão corretos\")"
   ],
   "outputs": [
    {
     "output_type": "stream",
     "name": "stdout",
     "text": [
      "Conexão estabelecida com o BD SQLite, versão: 3.36.0,\n",
      "Objeto de conexão criado e armazenado em <sqlite3.Connection object at 0x000001CD8BA2FA80>\n"
     ]
    }
   ],
   "metadata": {}
  },
  {
   "cell_type": "markdown",
   "source": [
    "## Informações sobre as tabelas presentes no Banco de Dados"
   ],
   "metadata": {}
  },
  {
   "cell_type": "code",
   "execution_count": 3,
   "source": [
    "# Verificando as tabelas existentes no Banco de dados:\r\n",
    "tabelas = pd.read_sql_query(\"SELECT NAME AS Tabelas_no_BD FROM sqlite_master WHERE type = 'table'\", connection)\r\n",
    "\r\n",
    "# Verificando o Tipo de objeto retornado pela query:\r\n",
    "print(f'O tipo do objeto retornado pela query é do tipo: {type(tabelas)}')\r\n",
    "\r\n",
    "# Imprimindo um dataframe com as tabelas existentes:\r\n",
    "tabelas"
   ],
   "outputs": [
    {
     "output_type": "stream",
     "name": "stdout",
     "text": [
      "O tipo do objeto retornado pela query é do tipo: <class 'pandas.core.frame.DataFrame'>\n"
     ]
    },
    {
     "output_type": "execute_result",
     "data": {
      "text/html": [
       "<div>\n",
       "<style scoped>\n",
       "    .dataframe tbody tr th:only-of-type {\n",
       "        vertical-align: middle;\n",
       "    }\n",
       "\n",
       "    .dataframe tbody tr th {\n",
       "        vertical-align: top;\n",
       "    }\n",
       "\n",
       "    .dataframe thead th {\n",
       "        text-align: right;\n",
       "    }\n",
       "</style>\n",
       "<table border=\"1\" class=\"dataframe\">\n",
       "  <thead>\n",
       "    <tr style=\"text-align: right;\">\n",
       "      <th></th>\n",
       "      <th>Tabelas_no_BD</th>\n",
       "    </tr>\n",
       "  </thead>\n",
       "  <tbody>\n",
       "    <tr>\n",
       "      <th>0</th>\n",
       "      <td>population_by_country_2020</td>\n",
       "    </tr>\n",
       "    <tr>\n",
       "      <th>1</th>\n",
       "      <td>covid_brasil</td>\n",
       "    </tr>\n",
       "    <tr>\n",
       "      <th>2</th>\n",
       "      <td>vacinacao_data_UF</td>\n",
       "    </tr>\n",
       "    <tr>\n",
       "      <th>3</th>\n",
       "      <td>vacinacao</td>\n",
       "    </tr>\n",
       "  </tbody>\n",
       "</table>\n",
       "</div>"
      ],
      "text/plain": [
       "                Tabelas_no_BD\n",
       "0  population_by_country_2020\n",
       "1                covid_brasil\n",
       "2           vacinacao_data_UF\n",
       "3                   vacinacao"
      ]
     },
     "metadata": {},
     "execution_count": 3
    }
   ],
   "metadata": {}
  },
  {
   "cell_type": "code",
   "execution_count": 4,
   "source": [
    "# Pelo fato do objeto retornado pela query ser do tipo dataframe do pandas, pode-se fazer um interação sobre o objeto \r\n",
    "# e usar os valores para obtermos informações sobre as tabelas presentes no BD.\r\n",
    "for idx, tab in tabelas.Tabelas_no_BD.iteritems():\r\n",
    "    sql = f\"PRAGMA TABLE_INFO({tab})\"\r\n",
    "    resultado = pd.read_sql_query(sql, connection)\r\n",
    "    print(\"Informações sobre a tabela:\", tab)\r\n",
    "    display(resultado)\r\n",
    "    print(\"-\"*100)\r\n",
    "    print(\"\\n\")"
   ],
   "outputs": [
    {
     "output_type": "stream",
     "name": "stdout",
     "text": [
      "Informações sobre a tabela: population_by_country_2020\n"
     ]
    },
    {
     "output_type": "display_data",
     "data": {
      "text/html": [
       "<div>\n",
       "<style scoped>\n",
       "    .dataframe tbody tr th:only-of-type {\n",
       "        vertical-align: middle;\n",
       "    }\n",
       "\n",
       "    .dataframe tbody tr th {\n",
       "        vertical-align: top;\n",
       "    }\n",
       "\n",
       "    .dataframe thead th {\n",
       "        text-align: right;\n",
       "    }\n",
       "</style>\n",
       "<table border=\"1\" class=\"dataframe\">\n",
       "  <thead>\n",
       "    <tr style=\"text-align: right;\">\n",
       "      <th></th>\n",
       "      <th>cid</th>\n",
       "      <th>name</th>\n",
       "      <th>type</th>\n",
       "      <th>notnull</th>\n",
       "      <th>dflt_value</th>\n",
       "      <th>pk</th>\n",
       "    </tr>\n",
       "  </thead>\n",
       "  <tbody>\n",
       "    <tr>\n",
       "      <th>0</th>\n",
       "      <td>0</td>\n",
       "      <td>Country</td>\n",
       "      <td>TEXT</td>\n",
       "      <td>0</td>\n",
       "      <td>None</td>\n",
       "      <td>0</td>\n",
       "    </tr>\n",
       "    <tr>\n",
       "      <th>1</th>\n",
       "      <td>1</td>\n",
       "      <td>Population_2020</td>\n",
       "      <td>INTEGER</td>\n",
       "      <td>0</td>\n",
       "      <td>None</td>\n",
       "      <td>0</td>\n",
       "    </tr>\n",
       "    <tr>\n",
       "      <th>2</th>\n",
       "      <td>2</td>\n",
       "      <td>Yearly_Change</td>\n",
       "      <td>TEXT</td>\n",
       "      <td>0</td>\n",
       "      <td>None</td>\n",
       "      <td>0</td>\n",
       "    </tr>\n",
       "    <tr>\n",
       "      <th>3</th>\n",
       "      <td>3</td>\n",
       "      <td>Net_Change</td>\n",
       "      <td>INTEGER</td>\n",
       "      <td>0</td>\n",
       "      <td>None</td>\n",
       "      <td>0</td>\n",
       "    </tr>\n",
       "    <tr>\n",
       "      <th>4</th>\n",
       "      <td>4</td>\n",
       "      <td>Density_P/Km²</td>\n",
       "      <td>INTEGER</td>\n",
       "      <td>0</td>\n",
       "      <td>None</td>\n",
       "      <td>0</td>\n",
       "    </tr>\n",
       "    <tr>\n",
       "      <th>5</th>\n",
       "      <td>5</td>\n",
       "      <td>Land_Area_Km²</td>\n",
       "      <td>INTEGER</td>\n",
       "      <td>0</td>\n",
       "      <td>None</td>\n",
       "      <td>0</td>\n",
       "    </tr>\n",
       "    <tr>\n",
       "      <th>6</th>\n",
       "      <td>6</td>\n",
       "      <td>Migrants_net</td>\n",
       "      <td>REAL</td>\n",
       "      <td>0</td>\n",
       "      <td>None</td>\n",
       "      <td>0</td>\n",
       "    </tr>\n",
       "    <tr>\n",
       "      <th>7</th>\n",
       "      <td>7</td>\n",
       "      <td>Fert_Rate</td>\n",
       "      <td>REAL</td>\n",
       "      <td>0</td>\n",
       "      <td>None</td>\n",
       "      <td>0</td>\n",
       "    </tr>\n",
       "    <tr>\n",
       "      <th>8</th>\n",
       "      <td>8</td>\n",
       "      <td>Med_Age</td>\n",
       "      <td>INTEGER</td>\n",
       "      <td>0</td>\n",
       "      <td>None</td>\n",
       "      <td>0</td>\n",
       "    </tr>\n",
       "    <tr>\n",
       "      <th>9</th>\n",
       "      <td>9</td>\n",
       "      <td>Urban_Pop_perc</td>\n",
       "      <td>TEXT</td>\n",
       "      <td>0</td>\n",
       "      <td>None</td>\n",
       "      <td>0</td>\n",
       "    </tr>\n",
       "    <tr>\n",
       "      <th>10</th>\n",
       "      <td>10</td>\n",
       "      <td>World_Share</td>\n",
       "      <td>TEXT</td>\n",
       "      <td>0</td>\n",
       "      <td>None</td>\n",
       "      <td>0</td>\n",
       "    </tr>\n",
       "  </tbody>\n",
       "</table>\n",
       "</div>"
      ],
      "text/plain": [
       "    cid             name     type  notnull dflt_value  pk\n",
       "0     0          Country     TEXT        0       None   0\n",
       "1     1  Population_2020  INTEGER        0       None   0\n",
       "2     2    Yearly_Change     TEXT        0       None   0\n",
       "3     3       Net_Change  INTEGER        0       None   0\n",
       "4     4    Density_P/Km²  INTEGER        0       None   0\n",
       "5     5    Land_Area_Km²  INTEGER        0       None   0\n",
       "6     6     Migrants_net     REAL        0       None   0\n",
       "7     7        Fert_Rate     REAL        0       None   0\n",
       "8     8          Med_Age  INTEGER        0       None   0\n",
       "9     9   Urban_Pop_perc     TEXT        0       None   0\n",
       "10   10      World_Share     TEXT        0       None   0"
      ]
     },
     "metadata": {}
    },
    {
     "output_type": "stream",
     "name": "stdout",
     "text": [
      "----------------------------------------------------------------------------------------------------\n",
      "\n",
      "\n",
      "Informações sobre a tabela: covid_brasil\n"
     ]
    },
    {
     "output_type": "display_data",
     "data": {
      "text/html": [
       "<div>\n",
       "<style scoped>\n",
       "    .dataframe tbody tr th:only-of-type {\n",
       "        vertical-align: middle;\n",
       "    }\n",
       "\n",
       "    .dataframe tbody tr th {\n",
       "        vertical-align: top;\n",
       "    }\n",
       "\n",
       "    .dataframe thead th {\n",
       "        text-align: right;\n",
       "    }\n",
       "</style>\n",
       "<table border=\"1\" class=\"dataframe\">\n",
       "  <thead>\n",
       "    <tr style=\"text-align: right;\">\n",
       "      <th></th>\n",
       "      <th>cid</th>\n",
       "      <th>name</th>\n",
       "      <th>type</th>\n",
       "      <th>notnull</th>\n",
       "      <th>dflt_value</th>\n",
       "      <th>pk</th>\n",
       "    </tr>\n",
       "  </thead>\n",
       "  <tbody>\n",
       "    <tr>\n",
       "      <th>0</th>\n",
       "      <td>0</td>\n",
       "      <td>regiao</td>\n",
       "      <td>TEXT</td>\n",
       "      <td>0</td>\n",
       "      <td>None</td>\n",
       "      <td>0</td>\n",
       "    </tr>\n",
       "    <tr>\n",
       "      <th>1</th>\n",
       "      <td>1</td>\n",
       "      <td>estado</td>\n",
       "      <td>TEXT</td>\n",
       "      <td>0</td>\n",
       "      <td>None</td>\n",
       "      <td>0</td>\n",
       "    </tr>\n",
       "    <tr>\n",
       "      <th>2</th>\n",
       "      <td>2</td>\n",
       "      <td>municipio</td>\n",
       "      <td>TEXT</td>\n",
       "      <td>0</td>\n",
       "      <td>None</td>\n",
       "      <td>0</td>\n",
       "    </tr>\n",
       "    <tr>\n",
       "      <th>3</th>\n",
       "      <td>3</td>\n",
       "      <td>coduf</td>\n",
       "      <td>INTEGER</td>\n",
       "      <td>0</td>\n",
       "      <td>None</td>\n",
       "      <td>0</td>\n",
       "    </tr>\n",
       "    <tr>\n",
       "      <th>4</th>\n",
       "      <td>4</td>\n",
       "      <td>codmun</td>\n",
       "      <td>TEXT</td>\n",
       "      <td>0</td>\n",
       "      <td>None</td>\n",
       "      <td>0</td>\n",
       "    </tr>\n",
       "    <tr>\n",
       "      <th>5</th>\n",
       "      <td>5</td>\n",
       "      <td>codRegiaoSaude</td>\n",
       "      <td>TEXT</td>\n",
       "      <td>0</td>\n",
       "      <td>None</td>\n",
       "      <td>0</td>\n",
       "    </tr>\n",
       "    <tr>\n",
       "      <th>6</th>\n",
       "      <td>6</td>\n",
       "      <td>nomeRegiaoSaude</td>\n",
       "      <td>TEXT</td>\n",
       "      <td>0</td>\n",
       "      <td>None</td>\n",
       "      <td>0</td>\n",
       "    </tr>\n",
       "    <tr>\n",
       "      <th>7</th>\n",
       "      <td>7</td>\n",
       "      <td>data</td>\n",
       "      <td>TEXT</td>\n",
       "      <td>0</td>\n",
       "      <td>None</td>\n",
       "      <td>0</td>\n",
       "    </tr>\n",
       "    <tr>\n",
       "      <th>8</th>\n",
       "      <td>8</td>\n",
       "      <td>semanaEpi</td>\n",
       "      <td>INTEGER</td>\n",
       "      <td>0</td>\n",
       "      <td>None</td>\n",
       "      <td>0</td>\n",
       "    </tr>\n",
       "    <tr>\n",
       "      <th>9</th>\n",
       "      <td>9</td>\n",
       "      <td>populacaoTCU2019</td>\n",
       "      <td>REAL</td>\n",
       "      <td>0</td>\n",
       "      <td>None</td>\n",
       "      <td>0</td>\n",
       "    </tr>\n",
       "    <tr>\n",
       "      <th>10</th>\n",
       "      <td>10</td>\n",
       "      <td>casosAcumulado</td>\n",
       "      <td>REAL</td>\n",
       "      <td>0</td>\n",
       "      <td>None</td>\n",
       "      <td>0</td>\n",
       "    </tr>\n",
       "    <tr>\n",
       "      <th>11</th>\n",
       "      <td>11</td>\n",
       "      <td>casosNovos</td>\n",
       "      <td>INTEGER</td>\n",
       "      <td>0</td>\n",
       "      <td>None</td>\n",
       "      <td>0</td>\n",
       "    </tr>\n",
       "    <tr>\n",
       "      <th>12</th>\n",
       "      <td>12</td>\n",
       "      <td>obitosAcumulado</td>\n",
       "      <td>INTEGER</td>\n",
       "      <td>0</td>\n",
       "      <td>None</td>\n",
       "      <td>0</td>\n",
       "    </tr>\n",
       "    <tr>\n",
       "      <th>13</th>\n",
       "      <td>13</td>\n",
       "      <td>obitosNovos</td>\n",
       "      <td>INTEGER</td>\n",
       "      <td>0</td>\n",
       "      <td>None</td>\n",
       "      <td>0</td>\n",
       "    </tr>\n",
       "    <tr>\n",
       "      <th>14</th>\n",
       "      <td>14</td>\n",
       "      <td>Recuperadosnovos</td>\n",
       "      <td>TEXT</td>\n",
       "      <td>0</td>\n",
       "      <td>None</td>\n",
       "      <td>0</td>\n",
       "    </tr>\n",
       "    <tr>\n",
       "      <th>15</th>\n",
       "      <td>15</td>\n",
       "      <td>emAcompanhamentoNovos</td>\n",
       "      <td>TEXT</td>\n",
       "      <td>0</td>\n",
       "      <td>None</td>\n",
       "      <td>0</td>\n",
       "    </tr>\n",
       "    <tr>\n",
       "      <th>16</th>\n",
       "      <td>16</td>\n",
       "      <td>interior/metropolitana</td>\n",
       "      <td>TEXT</td>\n",
       "      <td>0</td>\n",
       "      <td>None</td>\n",
       "      <td>0</td>\n",
       "    </tr>\n",
       "  </tbody>\n",
       "</table>\n",
       "</div>"
      ],
      "text/plain": [
       "    cid                    name     type  notnull dflt_value  pk\n",
       "0     0                  regiao     TEXT        0       None   0\n",
       "1     1                  estado     TEXT        0       None   0\n",
       "2     2               municipio     TEXT        0       None   0\n",
       "3     3                   coduf  INTEGER        0       None   0\n",
       "4     4                  codmun     TEXT        0       None   0\n",
       "5     5          codRegiaoSaude     TEXT        0       None   0\n",
       "6     6         nomeRegiaoSaude     TEXT        0       None   0\n",
       "7     7                    data     TEXT        0       None   0\n",
       "8     8               semanaEpi  INTEGER        0       None   0\n",
       "9     9        populacaoTCU2019     REAL        0       None   0\n",
       "10   10          casosAcumulado     REAL        0       None   0\n",
       "11   11              casosNovos  INTEGER        0       None   0\n",
       "12   12         obitosAcumulado  INTEGER        0       None   0\n",
       "13   13             obitosNovos  INTEGER        0       None   0\n",
       "14   14        Recuperadosnovos     TEXT        0       None   0\n",
       "15   15   emAcompanhamentoNovos     TEXT        0       None   0\n",
       "16   16  interior/metropolitana     TEXT        0       None   0"
      ]
     },
     "metadata": {}
    },
    {
     "output_type": "stream",
     "name": "stdout",
     "text": [
      "----------------------------------------------------------------------------------------------------\n",
      "\n",
      "\n",
      "Informações sobre a tabela: vacinacao_data_UF\n"
     ]
    },
    {
     "output_type": "display_data",
     "data": {
      "text/html": [
       "<div>\n",
       "<style scoped>\n",
       "    .dataframe tbody tr th:only-of-type {\n",
       "        vertical-align: middle;\n",
       "    }\n",
       "\n",
       "    .dataframe tbody tr th {\n",
       "        vertical-align: top;\n",
       "    }\n",
       "\n",
       "    .dataframe thead th {\n",
       "        text-align: right;\n",
       "    }\n",
       "</style>\n",
       "<table border=\"1\" class=\"dataframe\">\n",
       "  <thead>\n",
       "    <tr style=\"text-align: right;\">\n",
       "      <th></th>\n",
       "      <th>cid</th>\n",
       "      <th>name</th>\n",
       "      <th>type</th>\n",
       "      <th>notnull</th>\n",
       "      <th>dflt_value</th>\n",
       "      <th>pk</th>\n",
       "    </tr>\n",
       "  </thead>\n",
       "  <tbody>\n",
       "    <tr>\n",
       "      <th>0</th>\n",
       "      <td>0</td>\n",
       "      <td>UF</td>\n",
       "      <td>TEXT</td>\n",
       "      <td>0</td>\n",
       "      <td>None</td>\n",
       "      <td>0</td>\n",
       "    </tr>\n",
       "    <tr>\n",
       "      <th>1</th>\n",
       "      <td>1</td>\n",
       "      <td>data_vacinacao</td>\n",
       "      <td>TEXT</td>\n",
       "      <td>0</td>\n",
       "      <td>None</td>\n",
       "      <td>0</td>\n",
       "    </tr>\n",
       "    <tr>\n",
       "      <th>2</th>\n",
       "      <td>2</td>\n",
       "      <td>quantidade</td>\n",
       "      <td>INTEGER</td>\n",
       "      <td>0</td>\n",
       "      <td>None</td>\n",
       "      <td>0</td>\n",
       "    </tr>\n",
       "  </tbody>\n",
       "</table>\n",
       "</div>"
      ],
      "text/plain": [
       "   cid            name     type  notnull dflt_value  pk\n",
       "0    0              UF     TEXT        0       None   0\n",
       "1    1  data_vacinacao     TEXT        0       None   0\n",
       "2    2      quantidade  INTEGER        0       None   0"
      ]
     },
     "metadata": {}
    },
    {
     "output_type": "stream",
     "name": "stdout",
     "text": [
      "----------------------------------------------------------------------------------------------------\n",
      "\n",
      "\n",
      "Informações sobre a tabela: vacinacao\n"
     ]
    },
    {
     "output_type": "display_data",
     "data": {
      "text/html": [
       "<div>\n",
       "<style scoped>\n",
       "    .dataframe tbody tr th:only-of-type {\n",
       "        vertical-align: middle;\n",
       "    }\n",
       "\n",
       "    .dataframe tbody tr th {\n",
       "        vertical-align: top;\n",
       "    }\n",
       "\n",
       "    .dataframe thead th {\n",
       "        text-align: right;\n",
       "    }\n",
       "</style>\n",
       "<table border=\"1\" class=\"dataframe\">\n",
       "  <thead>\n",
       "    <tr style=\"text-align: right;\">\n",
       "      <th></th>\n",
       "      <th>cid</th>\n",
       "      <th>name</th>\n",
       "      <th>type</th>\n",
       "      <th>notnull</th>\n",
       "      <th>dflt_value</th>\n",
       "      <th>pk</th>\n",
       "    </tr>\n",
       "  </thead>\n",
       "  <tbody>\n",
       "    <tr>\n",
       "      <th>0</th>\n",
       "      <td>0</td>\n",
       "      <td>id</td>\n",
       "      <td>INTEGER</td>\n",
       "      <td>0</td>\n",
       "      <td>None</td>\n",
       "      <td>0</td>\n",
       "    </tr>\n",
       "    <tr>\n",
       "      <th>1</th>\n",
       "      <td>1</td>\n",
       "      <td>Municipio</td>\n",
       "      <td>TEXT</td>\n",
       "      <td>0</td>\n",
       "      <td>None</td>\n",
       "      <td>0</td>\n",
       "    </tr>\n",
       "    <tr>\n",
       "      <th>2</th>\n",
       "      <td>2</td>\n",
       "      <td>Cod_IBGE</td>\n",
       "      <td>INTEGER</td>\n",
       "      <td>0</td>\n",
       "      <td>None</td>\n",
       "      <td>0</td>\n",
       "    </tr>\n",
       "    <tr>\n",
       "      <th>3</th>\n",
       "      <td>3</td>\n",
       "      <td>UF</td>\n",
       "      <td>TEXT</td>\n",
       "      <td>0</td>\n",
       "      <td>None</td>\n",
       "      <td>0</td>\n",
       "    </tr>\n",
       "    <tr>\n",
       "      <th>4</th>\n",
       "      <td>4</td>\n",
       "      <td>Regiao</td>\n",
       "      <td>TEXT</td>\n",
       "      <td>0</td>\n",
       "      <td>None</td>\n",
       "      <td>0</td>\n",
       "    </tr>\n",
       "    <tr>\n",
       "      <th>5</th>\n",
       "      <td>5</td>\n",
       "      <td>Fabricante</td>\n",
       "      <td>TEXT</td>\n",
       "      <td>0</td>\n",
       "      <td>None</td>\n",
       "      <td>0</td>\n",
       "    </tr>\n",
       "    <tr>\n",
       "      <th>6</th>\n",
       "      <td>6</td>\n",
       "      <td>Doses_Aplicadas</td>\n",
       "      <td>INTEGER</td>\n",
       "      <td>0</td>\n",
       "      <td>None</td>\n",
       "      <td>0</td>\n",
       "    </tr>\n",
       "    <tr>\n",
       "      <th>7</th>\n",
       "      <td>7</td>\n",
       "      <td>Dose_1</td>\n",
       "      <td>INTEGER</td>\n",
       "      <td>0</td>\n",
       "      <td>None</td>\n",
       "      <td>0</td>\n",
       "    </tr>\n",
       "    <tr>\n",
       "      <th>8</th>\n",
       "      <td>8</td>\n",
       "      <td>Dose_2</td>\n",
       "      <td>INTEGER</td>\n",
       "      <td>0</td>\n",
       "      <td>None</td>\n",
       "      <td>0</td>\n",
       "    </tr>\n",
       "  </tbody>\n",
       "</table>\n",
       "</div>"
      ],
      "text/plain": [
       "   cid             name     type  notnull dflt_value  pk\n",
       "0    0               id  INTEGER        0       None   0\n",
       "1    1        Municipio     TEXT        0       None   0\n",
       "2    2         Cod_IBGE  INTEGER        0       None   0\n",
       "3    3               UF     TEXT        0       None   0\n",
       "4    4           Regiao     TEXT        0       None   0\n",
       "5    5       Fabricante     TEXT        0       None   0\n",
       "6    6  Doses_Aplicadas  INTEGER        0       None   0\n",
       "7    7           Dose_1  INTEGER        0       None   0\n",
       "8    8           Dose_2  INTEGER        0       None   0"
      ]
     },
     "metadata": {}
    },
    {
     "output_type": "stream",
     "name": "stdout",
     "text": [
      "----------------------------------------------------------------------------------------------------\n",
      "\n",
      "\n"
     ]
    }
   ],
   "metadata": {}
  },
  {
   "cell_type": "markdown",
   "source": [
    "## Carregando os datasets:"
   ],
   "metadata": {}
  },
  {
   "cell_type": "markdown",
   "source": [
    "### Dados de vacinação no Brasil"
   ],
   "metadata": {}
  },
  {
   "cell_type": "markdown",
   "source": [
    "[Link para download do dataset](https://qsprod.saude.gov.br/extensions/DEMAS_C19Vacina/DEMAS_C19Vacina.html)"
   ],
   "metadata": {}
  },
  {
   "cell_type": "code",
   "execution_count": 5,
   "source": [
    "# Realizando a leitura da tabela\r\n",
    "df = pd.read_sql('SELECT * FROM vacinacao', connection)\r\n",
    "df.head()"
   ],
   "outputs": [
    {
     "output_type": "execute_result",
     "data": {
      "text/html": [
       "<div>\n",
       "<style scoped>\n",
       "    .dataframe tbody tr th:only-of-type {\n",
       "        vertical-align: middle;\n",
       "    }\n",
       "\n",
       "    .dataframe tbody tr th {\n",
       "        vertical-align: top;\n",
       "    }\n",
       "\n",
       "    .dataframe thead th {\n",
       "        text-align: right;\n",
       "    }\n",
       "</style>\n",
       "<table border=\"1\" class=\"dataframe\">\n",
       "  <thead>\n",
       "    <tr style=\"text-align: right;\">\n",
       "      <th></th>\n",
       "      <th>id</th>\n",
       "      <th>Municipio</th>\n",
       "      <th>Cod_IBGE</th>\n",
       "      <th>UF</th>\n",
       "      <th>Regiao</th>\n",
       "      <th>Fabricante</th>\n",
       "      <th>Doses_Aplicadas</th>\n",
       "      <th>Dose_1</th>\n",
       "      <th>Dose_2</th>\n",
       "    </tr>\n",
       "  </thead>\n",
       "  <tbody>\n",
       "    <tr>\n",
       "      <th>0</th>\n",
       "      <td>1</td>\n",
       "      <td>Abadia De Goiás</td>\n",
       "      <td>520005</td>\n",
       "      <td>GO</td>\n",
       "      <td>Centro-Oeste</td>\n",
       "      <td>FIOCRUZ/ASTRAZENECA</td>\n",
       "      <td>3450</td>\n",
       "      <td>2633</td>\n",
       "      <td>817</td>\n",
       "    </tr>\n",
       "    <tr>\n",
       "      <th>1</th>\n",
       "      <td>2</td>\n",
       "      <td>Abadia De Goiás</td>\n",
       "      <td>520005</td>\n",
       "      <td>GO</td>\n",
       "      <td>Centro-Oeste</td>\n",
       "      <td>BUTANTAN/SINOVAC</td>\n",
       "      <td>3068</td>\n",
       "      <td>1661</td>\n",
       "      <td>1407</td>\n",
       "    </tr>\n",
       "    <tr>\n",
       "      <th>2</th>\n",
       "      <td>3</td>\n",
       "      <td>Abadia De Goiás</td>\n",
       "      <td>520005</td>\n",
       "      <td>GO</td>\n",
       "      <td>Centro-Oeste</td>\n",
       "      <td>PFIZER/BIONTECH</td>\n",
       "      <td>1125</td>\n",
       "      <td>1125</td>\n",
       "      <td>0</td>\n",
       "    </tr>\n",
       "    <tr>\n",
       "      <th>3</th>\n",
       "      <td>4</td>\n",
       "      <td>Abadia De Goiás</td>\n",
       "      <td>520005</td>\n",
       "      <td>GO</td>\n",
       "      <td>Centro-Oeste</td>\n",
       "      <td>JANSSEN</td>\n",
       "      <td>65</td>\n",
       "      <td>0</td>\n",
       "      <td>0</td>\n",
       "    </tr>\n",
       "    <tr>\n",
       "      <th>4</th>\n",
       "      <td>5</td>\n",
       "      <td>Abadia Dos Dourados</td>\n",
       "      <td>310010</td>\n",
       "      <td>MG</td>\n",
       "      <td>Sudeste</td>\n",
       "      <td>FIOCRUZ/ASTRAZENECA</td>\n",
       "      <td>3624</td>\n",
       "      <td>2711</td>\n",
       "      <td>913</td>\n",
       "    </tr>\n",
       "  </tbody>\n",
       "</table>\n",
       "</div>"
      ],
      "text/plain": [
       "   id            Municipio  Cod_IBGE  UF        Regiao           Fabricante  \\\n",
       "0   1      Abadia De Goiás    520005  GO  Centro-Oeste  FIOCRUZ/ASTRAZENECA   \n",
       "1   2      Abadia De Goiás    520005  GO  Centro-Oeste     BUTANTAN/SINOVAC   \n",
       "2   3      Abadia De Goiás    520005  GO  Centro-Oeste      PFIZER/BIONTECH   \n",
       "3   4      Abadia De Goiás    520005  GO  Centro-Oeste              JANSSEN   \n",
       "4   5  Abadia Dos Dourados    310010  MG       Sudeste  FIOCRUZ/ASTRAZENECA   \n",
       "\n",
       "   Doses_Aplicadas  Dose_1  Dose_2  \n",
       "0             3450    2633     817  \n",
       "1             3068    1661    1407  \n",
       "2             1125    1125       0  \n",
       "3               65       0       0  \n",
       "4             3624    2711     913  "
      ]
     },
     "metadata": {},
     "execution_count": 5
    }
   ],
   "metadata": {}
  },
  {
   "cell_type": "code",
   "execution_count": 6,
   "source": [
    "# Tratando os dados. Ao final da tabela, há várias linhas preenchidas com - .\r\n",
    "# Tais valores não representam dados válidos e irão deixar a visualização dos dados inadequadas. Por isso, irei removê-los.\r\n",
    "filtro = df[df['Fabricante'] == '-'].index\r\n",
    "df.drop(filtro, inplace=True)\r\n",
    "# Verificando as modificações da tabela \"vacinação\" filtrado.\r\n",
    "df.tail()"
   ],
   "outputs": [
    {
     "output_type": "execute_result",
     "data": {
      "text/html": [
       "<div>\n",
       "<style scoped>\n",
       "    .dataframe tbody tr th:only-of-type {\n",
       "        vertical-align: middle;\n",
       "    }\n",
       "\n",
       "    .dataframe tbody tr th {\n",
       "        vertical-align: top;\n",
       "    }\n",
       "\n",
       "    .dataframe thead th {\n",
       "        text-align: right;\n",
       "    }\n",
       "</style>\n",
       "<table border=\"1\" class=\"dataframe\">\n",
       "  <thead>\n",
       "    <tr style=\"text-align: right;\">\n",
       "      <th></th>\n",
       "      <th>id</th>\n",
       "      <th>Municipio</th>\n",
       "      <th>Cod_IBGE</th>\n",
       "      <th>UF</th>\n",
       "      <th>Regiao</th>\n",
       "      <th>Fabricante</th>\n",
       "      <th>Doses_Aplicadas</th>\n",
       "      <th>Dose_1</th>\n",
       "      <th>Dose_2</th>\n",
       "    </tr>\n",
       "  </thead>\n",
       "  <tbody>\n",
       "    <tr>\n",
       "      <th>21802</th>\n",
       "      <td>21803</td>\n",
       "      <td>Zé Doca</td>\n",
       "      <td>211400</td>\n",
       "      <td>MA</td>\n",
       "      <td>Nordeste</td>\n",
       "      <td>JANSSEN</td>\n",
       "      <td>357</td>\n",
       "      <td>0</td>\n",
       "      <td>0</td>\n",
       "    </tr>\n",
       "    <tr>\n",
       "      <th>21803</th>\n",
       "      <td>21804</td>\n",
       "      <td>Zortéa</td>\n",
       "      <td>421985</td>\n",
       "      <td>SC</td>\n",
       "      <td>Sul</td>\n",
       "      <td>FIOCRUZ/ASTRAZENECA</td>\n",
       "      <td>1338</td>\n",
       "      <td>928</td>\n",
       "      <td>410</td>\n",
       "    </tr>\n",
       "    <tr>\n",
       "      <th>21804</th>\n",
       "      <td>21805</td>\n",
       "      <td>Zortéa</td>\n",
       "      <td>421985</td>\n",
       "      <td>SC</td>\n",
       "      <td>Sul</td>\n",
       "      <td>BUTANTAN/SINOVAC</td>\n",
       "      <td>1160</td>\n",
       "      <td>666</td>\n",
       "      <td>494</td>\n",
       "    </tr>\n",
       "    <tr>\n",
       "      <th>21805</th>\n",
       "      <td>21806</td>\n",
       "      <td>Zortéa</td>\n",
       "      <td>421985</td>\n",
       "      <td>SC</td>\n",
       "      <td>Sul</td>\n",
       "      <td>PFIZER/BIONTECH</td>\n",
       "      <td>778</td>\n",
       "      <td>778</td>\n",
       "      <td>0</td>\n",
       "    </tr>\n",
       "    <tr>\n",
       "      <th>21806</th>\n",
       "      <td>21807</td>\n",
       "      <td>Zortéa</td>\n",
       "      <td>421985</td>\n",
       "      <td>SC</td>\n",
       "      <td>Sul</td>\n",
       "      <td>JANSSEN</td>\n",
       "      <td>110</td>\n",
       "      <td>0</td>\n",
       "      <td>0</td>\n",
       "    </tr>\n",
       "  </tbody>\n",
       "</table>\n",
       "</div>"
      ],
      "text/plain": [
       "          id Municipio  Cod_IBGE  UF    Regiao           Fabricante  \\\n",
       "21802  21803   Zé Doca    211400  MA  Nordeste              JANSSEN   \n",
       "21803  21804    Zortéa    421985  SC       Sul  FIOCRUZ/ASTRAZENECA   \n",
       "21804  21805    Zortéa    421985  SC       Sul     BUTANTAN/SINOVAC   \n",
       "21805  21806    Zortéa    421985  SC       Sul      PFIZER/BIONTECH   \n",
       "21806  21807    Zortéa    421985  SC       Sul              JANSSEN   \n",
       "\n",
       "       Doses_Aplicadas  Dose_1  Dose_2  \n",
       "21802              357       0       0  \n",
       "21803             1338     928     410  \n",
       "21804             1160     666     494  \n",
       "21805              778     778       0  \n",
       "21806              110       0       0  "
      ]
     },
     "metadata": {},
     "execution_count": 6
    }
   ],
   "metadata": {}
  },
  {
   "cell_type": "code",
   "execution_count": 7,
   "source": [
    "# Criando uma nova coluna com os valores de vacinação completa. Tal coluna representa o número de pessoas que tomaram as duas doses.\r\n",
    "# Para isso, irei usar uma função do numpy. Segue abaixo uma descrição:\r\n",
    "# np.where(1º param é inserir a condição a ser analisada, '''2º param é a'''função ou valor''' caso a condição seja verdadeira , '''3º param é a'''função ou valor''' caso a condição seja falsa)\r\n",
    "df['vacinacao_completa'] = np.where(df['Fabricante']=='JANSSEN', df.Doses_Aplicadas.values, df.Dose_2)\r\n",
    "df.head()"
   ],
   "outputs": [
    {
     "output_type": "execute_result",
     "data": {
      "text/html": [
       "<div>\n",
       "<style scoped>\n",
       "    .dataframe tbody tr th:only-of-type {\n",
       "        vertical-align: middle;\n",
       "    }\n",
       "\n",
       "    .dataframe tbody tr th {\n",
       "        vertical-align: top;\n",
       "    }\n",
       "\n",
       "    .dataframe thead th {\n",
       "        text-align: right;\n",
       "    }\n",
       "</style>\n",
       "<table border=\"1\" class=\"dataframe\">\n",
       "  <thead>\n",
       "    <tr style=\"text-align: right;\">\n",
       "      <th></th>\n",
       "      <th>id</th>\n",
       "      <th>Municipio</th>\n",
       "      <th>Cod_IBGE</th>\n",
       "      <th>UF</th>\n",
       "      <th>Regiao</th>\n",
       "      <th>Fabricante</th>\n",
       "      <th>Doses_Aplicadas</th>\n",
       "      <th>Dose_1</th>\n",
       "      <th>Dose_2</th>\n",
       "      <th>vacinacao_completa</th>\n",
       "    </tr>\n",
       "  </thead>\n",
       "  <tbody>\n",
       "    <tr>\n",
       "      <th>0</th>\n",
       "      <td>1</td>\n",
       "      <td>Abadia De Goiás</td>\n",
       "      <td>520005</td>\n",
       "      <td>GO</td>\n",
       "      <td>Centro-Oeste</td>\n",
       "      <td>FIOCRUZ/ASTRAZENECA</td>\n",
       "      <td>3450</td>\n",
       "      <td>2633</td>\n",
       "      <td>817</td>\n",
       "      <td>817</td>\n",
       "    </tr>\n",
       "    <tr>\n",
       "      <th>1</th>\n",
       "      <td>2</td>\n",
       "      <td>Abadia De Goiás</td>\n",
       "      <td>520005</td>\n",
       "      <td>GO</td>\n",
       "      <td>Centro-Oeste</td>\n",
       "      <td>BUTANTAN/SINOVAC</td>\n",
       "      <td>3068</td>\n",
       "      <td>1661</td>\n",
       "      <td>1407</td>\n",
       "      <td>1407</td>\n",
       "    </tr>\n",
       "    <tr>\n",
       "      <th>2</th>\n",
       "      <td>3</td>\n",
       "      <td>Abadia De Goiás</td>\n",
       "      <td>520005</td>\n",
       "      <td>GO</td>\n",
       "      <td>Centro-Oeste</td>\n",
       "      <td>PFIZER/BIONTECH</td>\n",
       "      <td>1125</td>\n",
       "      <td>1125</td>\n",
       "      <td>0</td>\n",
       "      <td>0</td>\n",
       "    </tr>\n",
       "    <tr>\n",
       "      <th>3</th>\n",
       "      <td>4</td>\n",
       "      <td>Abadia De Goiás</td>\n",
       "      <td>520005</td>\n",
       "      <td>GO</td>\n",
       "      <td>Centro-Oeste</td>\n",
       "      <td>JANSSEN</td>\n",
       "      <td>65</td>\n",
       "      <td>0</td>\n",
       "      <td>0</td>\n",
       "      <td>65</td>\n",
       "    </tr>\n",
       "    <tr>\n",
       "      <th>4</th>\n",
       "      <td>5</td>\n",
       "      <td>Abadia Dos Dourados</td>\n",
       "      <td>310010</td>\n",
       "      <td>MG</td>\n",
       "      <td>Sudeste</td>\n",
       "      <td>FIOCRUZ/ASTRAZENECA</td>\n",
       "      <td>3624</td>\n",
       "      <td>2711</td>\n",
       "      <td>913</td>\n",
       "      <td>913</td>\n",
       "    </tr>\n",
       "  </tbody>\n",
       "</table>\n",
       "</div>"
      ],
      "text/plain": [
       "   id            Municipio  Cod_IBGE  UF        Regiao           Fabricante  \\\n",
       "0   1      Abadia De Goiás    520005  GO  Centro-Oeste  FIOCRUZ/ASTRAZENECA   \n",
       "1   2      Abadia De Goiás    520005  GO  Centro-Oeste     BUTANTAN/SINOVAC   \n",
       "2   3      Abadia De Goiás    520005  GO  Centro-Oeste      PFIZER/BIONTECH   \n",
       "3   4      Abadia De Goiás    520005  GO  Centro-Oeste              JANSSEN   \n",
       "4   5  Abadia Dos Dourados    310010  MG       Sudeste  FIOCRUZ/ASTRAZENECA   \n",
       "\n",
       "   Doses_Aplicadas  Dose_1  Dose_2  vacinacao_completa  \n",
       "0             3450    2633     817                 817  \n",
       "1             3068    1661    1407                1407  \n",
       "2             1125    1125       0                   0  \n",
       "3               65       0       0                  65  \n",
       "4             3624    2711     913                 913  "
      ]
     },
     "metadata": {},
     "execution_count": 7
    }
   ],
   "metadata": {}
  },
  {
   "cell_type": "markdown",
   "source": [
    "### Carregando os dados de vacinação diária nos estados brasileiros:"
   ],
   "metadata": {}
  },
  {
   "cell_type": "markdown",
   "source": [
    "[Link para download do dataset](https://qsprod.saude.gov.br/extensions/DEMAS_C19Vacina/DEMAS_C19Vacina.html)"
   ],
   "metadata": {}
  },
  {
   "cell_type": "code",
   "execution_count": 8,
   "source": [
    "# Este dataset contém o número de vacinações diárias com datas. Estou utilizando este dataset pois o df resumido fornecido pelo MS \r\n",
    "# não possui datas. Irei precisar das mesmas para calcular valores totais e média diária das vacinas aplicadas.\r\n",
    "df2 = pd.read_sql('SELECT * FROM vacinacao_data_UF', connection)\r\n",
    "df2.head()"
   ],
   "outputs": [
    {
     "output_type": "execute_result",
     "data": {
      "text/html": [
       "<div>\n",
       "<style scoped>\n",
       "    .dataframe tbody tr th:only-of-type {\n",
       "        vertical-align: middle;\n",
       "    }\n",
       "\n",
       "    .dataframe tbody tr th {\n",
       "        vertical-align: top;\n",
       "    }\n",
       "\n",
       "    .dataframe thead th {\n",
       "        text-align: right;\n",
       "    }\n",
       "</style>\n",
       "<table border=\"1\" class=\"dataframe\">\n",
       "  <thead>\n",
       "    <tr style=\"text-align: right;\">\n",
       "      <th></th>\n",
       "      <th>UF</th>\n",
       "      <th>data_vacinacao</th>\n",
       "      <th>quantidade</th>\n",
       "    </tr>\n",
       "  </thead>\n",
       "  <tbody>\n",
       "    <tr>\n",
       "      <th>0</th>\n",
       "      <td>AC</td>\n",
       "      <td>18/01/2021</td>\n",
       "      <td>1</td>\n",
       "    </tr>\n",
       "    <tr>\n",
       "      <th>1</th>\n",
       "      <td>AC</td>\n",
       "      <td>19/01/2021</td>\n",
       "      <td>45</td>\n",
       "    </tr>\n",
       "    <tr>\n",
       "      <th>2</th>\n",
       "      <td>AC</td>\n",
       "      <td>20/01/2021</td>\n",
       "      <td>1019</td>\n",
       "    </tr>\n",
       "    <tr>\n",
       "      <th>3</th>\n",
       "      <td>AC</td>\n",
       "      <td>21/01/2021</td>\n",
       "      <td>1611</td>\n",
       "    </tr>\n",
       "    <tr>\n",
       "      <th>4</th>\n",
       "      <td>AC</td>\n",
       "      <td>22/01/2021</td>\n",
       "      <td>1106</td>\n",
       "    </tr>\n",
       "  </tbody>\n",
       "</table>\n",
       "</div>"
      ],
      "text/plain": [
       "   UF data_vacinacao  quantidade\n",
       "0  AC     18/01/2021           1\n",
       "1  AC     19/01/2021          45\n",
       "2  AC     20/01/2021        1019\n",
       "3  AC     21/01/2021        1611\n",
       "4  AC     22/01/2021        1106"
      ]
     },
     "metadata": {},
     "execution_count": 8
    }
   ],
   "metadata": {}
  },
  {
   "cell_type": "code",
   "execution_count": 9,
   "source": [
    "# filtrando novamente os valores inválidos.\r\n",
    "filtro = df2[df2[\"data_vacinacao\"] == '-'].index\r\n",
    "df2.drop(filtro, inplace=True)\r\n",
    "df2.head()"
   ],
   "outputs": [
    {
     "output_type": "execute_result",
     "data": {
      "text/html": [
       "<div>\n",
       "<style scoped>\n",
       "    .dataframe tbody tr th:only-of-type {\n",
       "        vertical-align: middle;\n",
       "    }\n",
       "\n",
       "    .dataframe tbody tr th {\n",
       "        vertical-align: top;\n",
       "    }\n",
       "\n",
       "    .dataframe thead th {\n",
       "        text-align: right;\n",
       "    }\n",
       "</style>\n",
       "<table border=\"1\" class=\"dataframe\">\n",
       "  <thead>\n",
       "    <tr style=\"text-align: right;\">\n",
       "      <th></th>\n",
       "      <th>UF</th>\n",
       "      <th>data_vacinacao</th>\n",
       "      <th>quantidade</th>\n",
       "    </tr>\n",
       "  </thead>\n",
       "  <tbody>\n",
       "    <tr>\n",
       "      <th>0</th>\n",
       "      <td>AC</td>\n",
       "      <td>18/01/2021</td>\n",
       "      <td>1</td>\n",
       "    </tr>\n",
       "    <tr>\n",
       "      <th>1</th>\n",
       "      <td>AC</td>\n",
       "      <td>19/01/2021</td>\n",
       "      <td>45</td>\n",
       "    </tr>\n",
       "    <tr>\n",
       "      <th>2</th>\n",
       "      <td>AC</td>\n",
       "      <td>20/01/2021</td>\n",
       "      <td>1019</td>\n",
       "    </tr>\n",
       "    <tr>\n",
       "      <th>3</th>\n",
       "      <td>AC</td>\n",
       "      <td>21/01/2021</td>\n",
       "      <td>1611</td>\n",
       "    </tr>\n",
       "    <tr>\n",
       "      <th>4</th>\n",
       "      <td>AC</td>\n",
       "      <td>22/01/2021</td>\n",
       "      <td>1106</td>\n",
       "    </tr>\n",
       "  </tbody>\n",
       "</table>\n",
       "</div>"
      ],
      "text/plain": [
       "   UF data_vacinacao  quantidade\n",
       "0  AC     18/01/2021           1\n",
       "1  AC     19/01/2021          45\n",
       "2  AC     20/01/2021        1019\n",
       "3  AC     21/01/2021        1611\n",
       "4  AC     22/01/2021        1106"
      ]
     },
     "metadata": {},
     "execution_count": 9
    }
   ],
   "metadata": {}
  },
  {
   "cell_type": "code",
   "execution_count": 10,
   "source": [
    "# Criando uma nova coluna no formato datetime, para que este possa ser transformada em index.\r\n",
    "# Com isso eu poderei fazer um resample do df por dia, mês ou algum período de tempo.\r\n",
    "df2['data'] = pd.to_datetime(df2['data_vacinacao'], format='%d/%m/%Y')\r\n",
    "df2.set_index('data', inplace=True)\r\n",
    "df2.head()"
   ],
   "outputs": [
    {
     "output_type": "execute_result",
     "data": {
      "text/html": [
       "<div>\n",
       "<style scoped>\n",
       "    .dataframe tbody tr th:only-of-type {\n",
       "        vertical-align: middle;\n",
       "    }\n",
       "\n",
       "    .dataframe tbody tr th {\n",
       "        vertical-align: top;\n",
       "    }\n",
       "\n",
       "    .dataframe thead th {\n",
       "        text-align: right;\n",
       "    }\n",
       "</style>\n",
       "<table border=\"1\" class=\"dataframe\">\n",
       "  <thead>\n",
       "    <tr style=\"text-align: right;\">\n",
       "      <th></th>\n",
       "      <th>UF</th>\n",
       "      <th>data_vacinacao</th>\n",
       "      <th>quantidade</th>\n",
       "    </tr>\n",
       "    <tr>\n",
       "      <th>data</th>\n",
       "      <th></th>\n",
       "      <th></th>\n",
       "      <th></th>\n",
       "    </tr>\n",
       "  </thead>\n",
       "  <tbody>\n",
       "    <tr>\n",
       "      <th>2021-01-18</th>\n",
       "      <td>AC</td>\n",
       "      <td>18/01/2021</td>\n",
       "      <td>1</td>\n",
       "    </tr>\n",
       "    <tr>\n",
       "      <th>2021-01-19</th>\n",
       "      <td>AC</td>\n",
       "      <td>19/01/2021</td>\n",
       "      <td>45</td>\n",
       "    </tr>\n",
       "    <tr>\n",
       "      <th>2021-01-20</th>\n",
       "      <td>AC</td>\n",
       "      <td>20/01/2021</td>\n",
       "      <td>1019</td>\n",
       "    </tr>\n",
       "    <tr>\n",
       "      <th>2021-01-21</th>\n",
       "      <td>AC</td>\n",
       "      <td>21/01/2021</td>\n",
       "      <td>1611</td>\n",
       "    </tr>\n",
       "    <tr>\n",
       "      <th>2021-01-22</th>\n",
       "      <td>AC</td>\n",
       "      <td>22/01/2021</td>\n",
       "      <td>1106</td>\n",
       "    </tr>\n",
       "  </tbody>\n",
       "</table>\n",
       "</div>"
      ],
      "text/plain": [
       "            UF data_vacinacao  quantidade\n",
       "data                                     \n",
       "2021-01-18  AC     18/01/2021           1\n",
       "2021-01-19  AC     19/01/2021          45\n",
       "2021-01-20  AC     20/01/2021        1019\n",
       "2021-01-21  AC     21/01/2021        1611\n",
       "2021-01-22  AC     22/01/2021        1106"
      ]
     },
     "metadata": {},
     "execution_count": 10
    }
   ],
   "metadata": {}
  },
  {
   "cell_type": "markdown",
   "source": [
    "### Carregando os números referentes a população por países em 2020"
   ],
   "metadata": {}
  },
  {
   "cell_type": "markdown",
   "source": [
    "[Link para download do dataset](https://www.kaggle.com/tanuprabhu/population-by-country-2020)"
   ],
   "metadata": {}
  },
  {
   "cell_type": "code",
   "execution_count": 11,
   "source": [
    "# Este link dhttps://www.kaggle.com/tanuprabhu/population-by-country-2020f contém a população dos países, dos quais usarei para comparação.\r\n",
    "# Como parâmetro da query, passo uma lista das colunas de que preciso. \r\n",
    "cols = 'Country, Population_2020, Land_Area_Km², Med_Age, World_Share'\r\n",
    "df_pop = pd.read_sql(f'SELECT {cols} FROM population_by_country_2020', connection)\r\n",
    "print(f'Número de países presentes no datset é de: {len(df_pop)}')"
   ],
   "outputs": [
    {
     "output_type": "stream",
     "name": "stdout",
     "text": [
      "Número de países presentes no datset é de: 235\n"
     ]
    }
   ],
   "metadata": {}
  },
  {
   "cell_type": "code",
   "execution_count": 12,
   "source": [
    "df_pop.head()"
   ],
   "outputs": [
    {
     "output_type": "execute_result",
     "data": {
      "text/html": [
       "<div>\n",
       "<style scoped>\n",
       "    .dataframe tbody tr th:only-of-type {\n",
       "        vertical-align: middle;\n",
       "    }\n",
       "\n",
       "    .dataframe tbody tr th {\n",
       "        vertical-align: top;\n",
       "    }\n",
       "\n",
       "    .dataframe thead th {\n",
       "        text-align: right;\n",
       "    }\n",
       "</style>\n",
       "<table border=\"1\" class=\"dataframe\">\n",
       "  <thead>\n",
       "    <tr style=\"text-align: right;\">\n",
       "      <th></th>\n",
       "      <th>Country</th>\n",
       "      <th>Population_2020</th>\n",
       "      <th>Land_Area_Km²</th>\n",
       "      <th>Med_Age</th>\n",
       "      <th>World_Share</th>\n",
       "    </tr>\n",
       "  </thead>\n",
       "  <tbody>\n",
       "    <tr>\n",
       "      <th>0</th>\n",
       "      <td>China</td>\n",
       "      <td>1440297825</td>\n",
       "      <td>9388211</td>\n",
       "      <td>38</td>\n",
       "      <td>18.47 %</td>\n",
       "    </tr>\n",
       "    <tr>\n",
       "      <th>1</th>\n",
       "      <td>India</td>\n",
       "      <td>1382345085</td>\n",
       "      <td>2973190</td>\n",
       "      <td>28</td>\n",
       "      <td>17.70 %</td>\n",
       "    </tr>\n",
       "    <tr>\n",
       "      <th>2</th>\n",
       "      <td>United States</td>\n",
       "      <td>331341050</td>\n",
       "      <td>9147420</td>\n",
       "      <td>38</td>\n",
       "      <td>4.25 %</td>\n",
       "    </tr>\n",
       "    <tr>\n",
       "      <th>3</th>\n",
       "      <td>Indonesia</td>\n",
       "      <td>274021604</td>\n",
       "      <td>1811570</td>\n",
       "      <td>30</td>\n",
       "      <td>3.51 %</td>\n",
       "    </tr>\n",
       "    <tr>\n",
       "      <th>4</th>\n",
       "      <td>Pakistan</td>\n",
       "      <td>221612785</td>\n",
       "      <td>770880</td>\n",
       "      <td>23</td>\n",
       "      <td>2.83 %</td>\n",
       "    </tr>\n",
       "  </tbody>\n",
       "</table>\n",
       "</div>"
      ],
      "text/plain": [
       "         Country  Population_2020  Land_Area_Km² Med_Age World_Share\n",
       "0          China       1440297825        9388211      38     18.47 %\n",
       "1          India       1382345085        2973190      28     17.70 %\n",
       "2  United States        331341050        9147420      38      4.25 %\n",
       "3      Indonesia        274021604        1811570      30      3.51 %\n",
       "4       Pakistan        221612785         770880      23      2.83 %"
      ]
     },
     "metadata": {},
     "execution_count": 12
    }
   ],
   "metadata": {}
  },
  {
   "cell_type": "code",
   "execution_count": 13,
   "source": [
    "# Extraindo o tamanho da popução brasileira do df acima ou através de uma query direta do Banco de dados.\r\n",
    "# pop_Br = df_pop[df_pop['Country'] == 'Brazil']['Population_2020'].values[0]\r\n",
    "sql = \"SELECT Population_2020 FROM population_by_country_2020 WHERE Country='Brazil'\"\r\n",
    "cursor.execute(sql)\r\n",
    "res = cursor.fetchall()\r\n",
    "pop_Br=res[0][0]\r\n",
    "\r\n",
    "print(f'O tamanho da população brasileira em 2020 é de: {pop_Br}')"
   ],
   "outputs": [
    {
     "output_type": "stream",
     "name": "stdout",
     "text": [
      "O tamanho da população brasileira em 2020 é de: 212821986\n"
     ]
    }
   ],
   "metadata": {}
  },
  {
   "cell_type": "code",
   "execution_count": 14,
   "source": [
    "# Filtrando por países com uma população entre 15M e 50M de habitantes.\r\n",
    "world50M = df_pop[(df_pop['Population_2020'] <= 50000000) & (df_pop['Population_2020'] > 15000000) ]\r\n",
    "world50M2 = df_pop[(df_pop['Population_2020'] <= 50000000)]\r\n",
    "\r\n",
    "# Verificando o número de países que possuem uma população entre 15M e 50M.\r\n",
    "\r\n",
    "print(f'Número de países com uma população entre 15 milhões e 50 milhões é de: {len(world50M)}')\r\n",
    "print(f'Número de países com uma população menor que 50 milhões é de: {len(world50M2)}')\r\n"
   ],
   "outputs": [
    {
     "output_type": "stream",
     "name": "stdout",
     "text": [
      "Número de países com uma população entre 15 milhoes e 50 milhões é de: 44\n",
      "Número de países com uma população menor que 50 milhões é de: 206\n"
     ]
    }
   ],
   "metadata": {}
  },
  {
   "cell_type": "code",
   "execution_count": 15,
   "source": [
    "world50M.head()"
   ],
   "outputs": [
    {
     "output_type": "execute_result",
     "data": {
      "text/html": [
       "<div>\n",
       "<style scoped>\n",
       "    .dataframe tbody tr th:only-of-type {\n",
       "        vertical-align: middle;\n",
       "    }\n",
       "\n",
       "    .dataframe tbody tr th {\n",
       "        vertical-align: top;\n",
       "    }\n",
       "\n",
       "    .dataframe thead th {\n",
       "        text-align: right;\n",
       "    }\n",
       "</style>\n",
       "<table border=\"1\" class=\"dataframe\">\n",
       "  <thead>\n",
       "    <tr style=\"text-align: right;\">\n",
       "      <th></th>\n",
       "      <th>Country</th>\n",
       "      <th>Population_2020</th>\n",
       "      <th>Land_Area_Km²</th>\n",
       "      <th>Med_Age</th>\n",
       "      <th>World_Share</th>\n",
       "    </tr>\n",
       "  </thead>\n",
       "  <tbody>\n",
       "    <tr>\n",
       "      <th>29</th>\n",
       "      <td>Spain</td>\n",
       "      <td>46757980</td>\n",
       "      <td>498800</td>\n",
       "      <td>45</td>\n",
       "      <td>0.60 %</td>\n",
       "    </tr>\n",
       "    <tr>\n",
       "      <th>30</th>\n",
       "      <td>Uganda</td>\n",
       "      <td>45974931</td>\n",
       "      <td>199810</td>\n",
       "      <td>17</td>\n",
       "      <td>0.59 %</td>\n",
       "    </tr>\n",
       "    <tr>\n",
       "      <th>31</th>\n",
       "      <td>Argentina</td>\n",
       "      <td>45267449</td>\n",
       "      <td>2736690</td>\n",
       "      <td>32</td>\n",
       "      <td>0.58 %</td>\n",
       "    </tr>\n",
       "    <tr>\n",
       "      <th>32</th>\n",
       "      <td>Algeria</td>\n",
       "      <td>43984569</td>\n",
       "      <td>2381740</td>\n",
       "      <td>29</td>\n",
       "      <td>0.56 %</td>\n",
       "    </tr>\n",
       "    <tr>\n",
       "      <th>33</th>\n",
       "      <td>Sudan</td>\n",
       "      <td>44019263</td>\n",
       "      <td>1765048</td>\n",
       "      <td>20</td>\n",
       "      <td>0.56 %</td>\n",
       "    </tr>\n",
       "  </tbody>\n",
       "</table>\n",
       "</div>"
      ],
      "text/plain": [
       "      Country  Population_2020  Land_Area_Km² Med_Age World_Share\n",
       "29      Spain         46757980         498800      45      0.60 %\n",
       "30     Uganda         45974931         199810      17      0.59 %\n",
       "31  Argentina         45267449        2736690      32      0.58 %\n",
       "32    Algeria         43984569        2381740      29      0.56 %\n",
       "33      Sudan         44019263        1765048      20      0.56 %"
      ]
     },
     "metadata": {},
     "execution_count": 15
    }
   ],
   "metadata": {}
  },
  {
   "cell_type": "code",
   "execution_count": 16,
   "source": [
    "# Filtrando por países com uma população menor que 200.000 habitantes.\r\n",
    "world5M = df_pop[(df_pop['Population_2020'] <= 5000000)]\r\n",
    "\r\n",
    "# Verificando o número de países que possuem uma população entre 5M e 20M.\r\n",
    "print(f'Número de países com uma população até 5 milhões é de: {len(world5M)}')"
   ],
   "outputs": [
    {
     "output_type": "stream",
     "name": "stdout",
     "text": [
      "Número de países com uma população até 5 milhões é de: 112\n"
     ]
    }
   ],
   "metadata": {}
  },
  {
   "cell_type": "code",
   "execution_count": 17,
   "source": [
    "world5M.head()"
   ],
   "outputs": [
    {
     "output_type": "execute_result",
     "data": {
      "text/html": [
       "<div>\n",
       "<style scoped>\n",
       "    .dataframe tbody tr th:only-of-type {\n",
       "        vertical-align: middle;\n",
       "    }\n",
       "\n",
       "    .dataframe tbody tr th {\n",
       "        vertical-align: top;\n",
       "    }\n",
       "\n",
       "    .dataframe thead th {\n",
       "        text-align: right;\n",
       "    }\n",
       "</style>\n",
       "<table border=\"1\" class=\"dataframe\">\n",
       "  <thead>\n",
       "    <tr style=\"text-align: right;\">\n",
       "      <th></th>\n",
       "      <th>Country</th>\n",
       "      <th>Population_2020</th>\n",
       "      <th>Land_Area_Km²</th>\n",
       "      <th>Med_Age</th>\n",
       "      <th>World_Share</th>\n",
       "    </tr>\n",
       "  </thead>\n",
       "  <tbody>\n",
       "    <tr>\n",
       "      <th>123</th>\n",
       "      <td>Ireland</td>\n",
       "      <td>4947267</td>\n",
       "      <td>68890</td>\n",
       "      <td>38</td>\n",
       "      <td>0.06 %</td>\n",
       "    </tr>\n",
       "    <tr>\n",
       "      <th>124</th>\n",
       "      <td>Central African Republic</td>\n",
       "      <td>4843954</td>\n",
       "      <td>622980</td>\n",
       "      <td>18</td>\n",
       "      <td>0.06 %</td>\n",
       "    </tr>\n",
       "    <tr>\n",
       "      <th>125</th>\n",
       "      <td>New Zealand</td>\n",
       "      <td>4829021</td>\n",
       "      <td>263310</td>\n",
       "      <td>38</td>\n",
       "      <td>0.06 %</td>\n",
       "    </tr>\n",
       "    <tr>\n",
       "      <th>126</th>\n",
       "      <td>Mauritania</td>\n",
       "      <td>4669775</td>\n",
       "      <td>1030700</td>\n",
       "      <td>20</td>\n",
       "      <td>0.06 %</td>\n",
       "    </tr>\n",
       "    <tr>\n",
       "      <th>127</th>\n",
       "      <td>Panama</td>\n",
       "      <td>4326296</td>\n",
       "      <td>74340</td>\n",
       "      <td>30</td>\n",
       "      <td>0.06 %</td>\n",
       "    </tr>\n",
       "  </tbody>\n",
       "</table>\n",
       "</div>"
      ],
      "text/plain": [
       "                      Country  Population_2020  Land_Area_Km² Med_Age  \\\n",
       "123                   Ireland          4947267          68890      38   \n",
       "124  Central African Republic          4843954         622980      18   \n",
       "125               New Zealand          4829021         263310      38   \n",
       "126                Mauritania          4669775        1030700      20   \n",
       "127                    Panama          4326296          74340      30   \n",
       "\n",
       "    World_Share  \n",
       "123      0.06 %  \n",
       "124      0.06 %  \n",
       "125      0.06 %  \n",
       "126      0.06 %  \n",
       "127      0.06 %  "
      ]
     },
     "metadata": {},
     "execution_count": 17
    }
   ],
   "metadata": {}
  },
  {
   "cell_type": "markdown",
   "source": [
    "### Carregando os dados da covid no Brasil\n",
    "[link do dataset](https://covid.saude.gov.br/)"
   ],
   "metadata": {}
  },
  {
   "cell_type": "code",
   "execution_count": 18,
   "source": [
    "# Este dataset possui os casos de covid no Brasil desde o início da pandemia.\r\n",
    "cols = 'regiao, data, casosAcumulado, casosNovos, obitosAcumulado, obitosNovos'\r\n",
    "df_covid = pd.read_sql(f'SELECT {cols} FROM covid_brasil', connection)\r\n",
    "df_covid.head()"
   ],
   "outputs": [
    {
     "output_type": "execute_result",
     "data": {
      "text/html": [
       "<div>\n",
       "<style scoped>\n",
       "    .dataframe tbody tr th:only-of-type {\n",
       "        vertical-align: middle;\n",
       "    }\n",
       "\n",
       "    .dataframe tbody tr th {\n",
       "        vertical-align: top;\n",
       "    }\n",
       "\n",
       "    .dataframe thead th {\n",
       "        text-align: right;\n",
       "    }\n",
       "</style>\n",
       "<table border=\"1\" class=\"dataframe\">\n",
       "  <thead>\n",
       "    <tr style=\"text-align: right;\">\n",
       "      <th></th>\n",
       "      <th>regiao</th>\n",
       "      <th>data</th>\n",
       "      <th>casosAcumulado</th>\n",
       "      <th>casosNovos</th>\n",
       "      <th>obitosAcumulado</th>\n",
       "      <th>obitosNovos</th>\n",
       "    </tr>\n",
       "  </thead>\n",
       "  <tbody>\n",
       "    <tr>\n",
       "      <th>0</th>\n",
       "      <td>Brasil</td>\n",
       "      <td>2020-02-25</td>\n",
       "      <td>0.00</td>\n",
       "      <td>0</td>\n",
       "      <td>0</td>\n",
       "      <td>0</td>\n",
       "    </tr>\n",
       "    <tr>\n",
       "      <th>1</th>\n",
       "      <td>Brasil</td>\n",
       "      <td>2020-02-26</td>\n",
       "      <td>1.00</td>\n",
       "      <td>1</td>\n",
       "      <td>0</td>\n",
       "      <td>0</td>\n",
       "    </tr>\n",
       "    <tr>\n",
       "      <th>2</th>\n",
       "      <td>Brasil</td>\n",
       "      <td>2020-02-27</td>\n",
       "      <td>1.00</td>\n",
       "      <td>0</td>\n",
       "      <td>0</td>\n",
       "      <td>0</td>\n",
       "    </tr>\n",
       "    <tr>\n",
       "      <th>3</th>\n",
       "      <td>Brasil</td>\n",
       "      <td>2020-02-28</td>\n",
       "      <td>1.00</td>\n",
       "      <td>0</td>\n",
       "      <td>0</td>\n",
       "      <td>0</td>\n",
       "    </tr>\n",
       "    <tr>\n",
       "      <th>4</th>\n",
       "      <td>Brasil</td>\n",
       "      <td>2020-02-29</td>\n",
       "      <td>2.00</td>\n",
       "      <td>1</td>\n",
       "      <td>0</td>\n",
       "      <td>0</td>\n",
       "    </tr>\n",
       "  </tbody>\n",
       "</table>\n",
       "</div>"
      ],
      "text/plain": [
       "   regiao        data  casosAcumulado  casosNovos  obitosAcumulado  \\\n",
       "0  Brasil  2020-02-25            0.00           0                0   \n",
       "1  Brasil  2020-02-26            1.00           1                0   \n",
       "2  Brasil  2020-02-27            1.00           0                0   \n",
       "3  Brasil  2020-02-28            1.00           0                0   \n",
       "4  Brasil  2020-02-29            2.00           1                0   \n",
       "\n",
       "   obitosNovos  \n",
       "0            0  \n",
       "1            0  \n",
       "2            0  \n",
       "3            0  \n",
       "4            0  "
      ]
     },
     "metadata": {},
     "execution_count": 18
    }
   ],
   "metadata": {}
  },
  {
   "cell_type": "code",
   "execution_count": 19,
   "source": [
    "# Novamente, estou criando uma nova coluna no formato datetime para que esta possa ser transformada em index.\r\n",
    "# Com isso, eu poderei fazer um resample do df por mês.\r\n",
    "df_covid['data'] = pd.to_datetime(df_covid['data'], format='%Y-%m-%d')\r\n",
    "df_covid.set_index('data', inplace=True)\r\n",
    "df_covid.head()"
   ],
   "outputs": [
    {
     "output_type": "execute_result",
     "data": {
      "text/html": [
       "<div>\n",
       "<style scoped>\n",
       "    .dataframe tbody tr th:only-of-type {\n",
       "        vertical-align: middle;\n",
       "    }\n",
       "\n",
       "    .dataframe tbody tr th {\n",
       "        vertical-align: top;\n",
       "    }\n",
       "\n",
       "    .dataframe thead th {\n",
       "        text-align: right;\n",
       "    }\n",
       "</style>\n",
       "<table border=\"1\" class=\"dataframe\">\n",
       "  <thead>\n",
       "    <tr style=\"text-align: right;\">\n",
       "      <th></th>\n",
       "      <th>regiao</th>\n",
       "      <th>casosAcumulado</th>\n",
       "      <th>casosNovos</th>\n",
       "      <th>obitosAcumulado</th>\n",
       "      <th>obitosNovos</th>\n",
       "    </tr>\n",
       "    <tr>\n",
       "      <th>data</th>\n",
       "      <th></th>\n",
       "      <th></th>\n",
       "      <th></th>\n",
       "      <th></th>\n",
       "      <th></th>\n",
       "    </tr>\n",
       "  </thead>\n",
       "  <tbody>\n",
       "    <tr>\n",
       "      <th>2020-02-25</th>\n",
       "      <td>Brasil</td>\n",
       "      <td>0.00</td>\n",
       "      <td>0</td>\n",
       "      <td>0</td>\n",
       "      <td>0</td>\n",
       "    </tr>\n",
       "    <tr>\n",
       "      <th>2020-02-26</th>\n",
       "      <td>Brasil</td>\n",
       "      <td>1.00</td>\n",
       "      <td>1</td>\n",
       "      <td>0</td>\n",
       "      <td>0</td>\n",
       "    </tr>\n",
       "    <tr>\n",
       "      <th>2020-02-27</th>\n",
       "      <td>Brasil</td>\n",
       "      <td>1.00</td>\n",
       "      <td>0</td>\n",
       "      <td>0</td>\n",
       "      <td>0</td>\n",
       "    </tr>\n",
       "    <tr>\n",
       "      <th>2020-02-28</th>\n",
       "      <td>Brasil</td>\n",
       "      <td>1.00</td>\n",
       "      <td>0</td>\n",
       "      <td>0</td>\n",
       "      <td>0</td>\n",
       "    </tr>\n",
       "    <tr>\n",
       "      <th>2020-02-29</th>\n",
       "      <td>Brasil</td>\n",
       "      <td>2.00</td>\n",
       "      <td>1</td>\n",
       "      <td>0</td>\n",
       "      <td>0</td>\n",
       "    </tr>\n",
       "  </tbody>\n",
       "</table>\n",
       "</div>"
      ],
      "text/plain": [
       "            regiao  casosAcumulado  casosNovos  obitosAcumulado  obitosNovos\n",
       "data                                                                        \n",
       "2020-02-25  Brasil            0.00           0                0            0\n",
       "2020-02-26  Brasil            1.00           1                0            0\n",
       "2020-02-27  Brasil            1.00           0                0            0\n",
       "2020-02-28  Brasil            1.00           0                0            0\n",
       "2020-02-29  Brasil            2.00           1                0            0"
      ]
     },
     "metadata": {},
     "execution_count": 19
    }
   ],
   "metadata": {}
  },
  {
   "cell_type": "markdown",
   "source": [
    "# Parte - 1 Respondendo pergundas sobre o andamento da vacinação contra a codid-19 no Brasil"
   ],
   "metadata": {}
  },
  {
   "cell_type": "markdown",
   "source": [
    "### Número total de vacinas aplicadas?"
   ],
   "metadata": {}
  },
  {
   "cell_type": "code",
   "execution_count": 20,
   "source": [
    "total_vacinas_apli = df.Doses_Aplicadas.sum()\r\n",
    "print(f'Total de vacinas aplicadas é:  {total_vacinas_apli}')"
   ],
   "outputs": [
    {
     "output_type": "stream",
     "name": "stdout",
     "text": [
      "Tatal de vacinas aplicadas é:  173486717\n"
     ]
    }
   ],
   "metadata": {}
  },
  {
   "cell_type": "markdown",
   "source": [
    "### Número de pessoas vacinadas com a primeira dose?"
   ],
   "metadata": {}
  },
  {
   "cell_type": "code",
   "execution_count": 21,
   "source": [
    "total_dose1 = df.Dose_1.sum()\r\n",
    "print(f'Total de pessoas vacinadas com a primeira dose é: {total_dose1}')"
   ],
   "outputs": [
    {
     "output_type": "stream",
     "name": "stdout",
     "text": [
      "Total de pessoas vacinada com a primeira dose é: 120064684\n"
     ]
    }
   ],
   "metadata": {}
  },
  {
   "cell_type": "markdown",
   "source": [
    "### Porcentagem da população vacinada com a primeira dose?"
   ],
   "metadata": {}
  },
  {
   "cell_type": "code",
   "execution_count": 22,
   "source": [
    "dose_1 = (df.Dose_1.sum() * 100) / pop_Br\r\n",
    "print('Porcentagem da população vacinada com a primeira dose é de {:.2f}%'.format(dose_1))"
   ],
   "outputs": [
    {
     "output_type": "stream",
     "name": "stdout",
     "text": [
      "Porcentagem da população vacinada com a primeira dose é de 56.42%\n"
     ]
    }
   ],
   "metadata": {}
  },
  {
   "cell_type": "markdown",
   "source": [
    "### Número total de pessoas totalmente vacinadas?"
   ],
   "metadata": {}
  },
  {
   "cell_type": "code",
   "execution_count": 23,
   "source": [
    "total_vacinado =  df['vacinacao_completa'].sum()\r\n",
    "print(f'Tatal de pessoas completamente vacinadas {total_vacinado}')"
   ],
   "outputs": [
    {
     "output_type": "stream",
     "name": "stdout",
     "text": [
      "Tatal de pessoas completamente vacinadas 53582309\n"
     ]
    }
   ],
   "metadata": {}
  },
  {
   "cell_type": "markdown",
   "source": [
    "### Porcentagem da população completamente vacinada?"
   ],
   "metadata": {}
  },
  {
   "cell_type": "code",
   "execution_count": 24,
   "source": [
    "complet_vacinado = (df.vacinacao_completa.sum() * 100) / pop_Br\r\n",
    "print('Porcentagem da população completamente vacinada {:.2f}%'.format(complet_vacinado))"
   ],
   "outputs": [
    {
     "output_type": "stream",
     "name": "stdout",
     "text": [
      "Porcentagem da população completamente vacinada 25.18%\n"
     ]
    }
   ],
   "metadata": {}
  },
  {
   "cell_type": "markdown",
   "source": [
    "## Criando um novo df com a soma das doses aplicadas, agrupados por fabricante"
   ],
   "metadata": {}
  },
  {
   "cell_type": "markdown",
   "source": [
    "A criação de um dataframe agrupado pela quantidade de doses aplicadas por cada fabricante nos permitirá saber qual é o imunizante predominante na população brasileira.  \n",
    "Como esperado, o imunizante com a maior distribuição no país é a CoronaVac, produzida pelo Butantan. Quase 60 milhões de CoronaVac foram aplicadas e mais de 25 milhões de pessoas foram completamente imunizadas, ou seja, tomaram as duas doses da vacina."
   ],
   "metadata": {}
  },
  {
   "cell_type": "code",
   "execution_count": 25,
   "source": [
    "# Agrupando o total de vacinas aplicadas por fabricante\r\n",
    "cols = ['Doses_Aplicadas', 'vacinacao_completa']\r\n",
    "df_vac = df.groupby(df['Fabricante'], as_index=False)[cols].sum()\r\n",
    "df_vac"
   ],
   "outputs": [
    {
     "output_type": "execute_result",
     "data": {
      "text/html": [
       "<div>\n",
       "<style scoped>\n",
       "    .dataframe tbody tr th:only-of-type {\n",
       "        vertical-align: middle;\n",
       "    }\n",
       "\n",
       "    .dataframe tbody tr th {\n",
       "        vertical-align: top;\n",
       "    }\n",
       "\n",
       "    .dataframe thead th {\n",
       "        text-align: right;\n",
       "    }\n",
       "</style>\n",
       "<table border=\"1\" class=\"dataframe\">\n",
       "  <thead>\n",
       "    <tr style=\"text-align: right;\">\n",
       "      <th></th>\n",
       "      <th>Fabricante</th>\n",
       "      <th>Doses_Aplicadas</th>\n",
       "      <th>vacinacao_completa</th>\n",
       "    </tr>\n",
       "  </thead>\n",
       "  <tbody>\n",
       "    <tr>\n",
       "      <th>0</th>\n",
       "      <td>BUTANTAN/SINOVAC</td>\n",
       "      <td>59871058</td>\n",
       "      <td>25438723</td>\n",
       "    </tr>\n",
       "    <tr>\n",
       "      <th>1</th>\n",
       "      <td>FIOCRUZ/ASTRAZENECA</td>\n",
       "      <td>79239644</td>\n",
       "      <td>21910952</td>\n",
       "    </tr>\n",
       "    <tr>\n",
       "      <th>2</th>\n",
       "      <td>JANSSEN</td>\n",
       "      <td>4391604</td>\n",
       "      <td>4391604</td>\n",
       "    </tr>\n",
       "    <tr>\n",
       "      <th>3</th>\n",
       "      <td>PFIZER/BIONTECH</td>\n",
       "      <td>29984411</td>\n",
       "      <td>1841030</td>\n",
       "    </tr>\n",
       "  </tbody>\n",
       "</table>\n",
       "</div>"
      ],
      "text/plain": [
       "            Fabricante  Doses_Aplicadas  vacinacao_completa\n",
       "0     BUTANTAN/SINOVAC         59871058            25438723\n",
       "1  FIOCRUZ/ASTRAZENECA         79239644            21910952\n",
       "2              JANSSEN          4391604             4391604\n",
       "3      PFIZER/BIONTECH         29984411             1841030"
      ]
     },
     "metadata": {},
     "execution_count": 25
    }
   ],
   "metadata": {}
  },
  {
   "cell_type": "code",
   "execution_count": 26,
   "source": [
    "# Criando uma coluna com a porcentagen da população vacinada por tipo de vacina/fabricante\r\n",
    "df_vac['por cento_fabricante'] = (df_vac.vacinacao_completa * 100) / (df_vac.vacinacao_completa.sum())\r\n",
    "df_vac.head()"
   ],
   "outputs": [
    {
     "output_type": "execute_result",
     "data": {
      "text/html": [
       "<div>\n",
       "<style scoped>\n",
       "    .dataframe tbody tr th:only-of-type {\n",
       "        vertical-align: middle;\n",
       "    }\n",
       "\n",
       "    .dataframe tbody tr th {\n",
       "        vertical-align: top;\n",
       "    }\n",
       "\n",
       "    .dataframe thead th {\n",
       "        text-align: right;\n",
       "    }\n",
       "</style>\n",
       "<table border=\"1\" class=\"dataframe\">\n",
       "  <thead>\n",
       "    <tr style=\"text-align: right;\">\n",
       "      <th></th>\n",
       "      <th>Fabricante</th>\n",
       "      <th>Doses_Aplicadas</th>\n",
       "      <th>vacinacao_completa</th>\n",
       "      <th>porcento_fabricante</th>\n",
       "    </tr>\n",
       "  </thead>\n",
       "  <tbody>\n",
       "    <tr>\n",
       "      <th>0</th>\n",
       "      <td>BUTANTAN/SINOVAC</td>\n",
       "      <td>59871058</td>\n",
       "      <td>25438723</td>\n",
       "      <td>47.48</td>\n",
       "    </tr>\n",
       "    <tr>\n",
       "      <th>1</th>\n",
       "      <td>FIOCRUZ/ASTRAZENECA</td>\n",
       "      <td>79239644</td>\n",
       "      <td>21910952</td>\n",
       "      <td>40.89</td>\n",
       "    </tr>\n",
       "    <tr>\n",
       "      <th>2</th>\n",
       "      <td>JANSSEN</td>\n",
       "      <td>4391604</td>\n",
       "      <td>4391604</td>\n",
       "      <td>8.20</td>\n",
       "    </tr>\n",
       "    <tr>\n",
       "      <th>3</th>\n",
       "      <td>PFIZER/BIONTECH</td>\n",
       "      <td>29984411</td>\n",
       "      <td>1841030</td>\n",
       "      <td>3.44</td>\n",
       "    </tr>\n",
       "  </tbody>\n",
       "</table>\n",
       "</div>"
      ],
      "text/plain": [
       "            Fabricante  Doses_Aplicadas  vacinacao_completa  \\\n",
       "0     BUTANTAN/SINOVAC         59871058            25438723   \n",
       "1  FIOCRUZ/ASTRAZENECA         79239644            21910952   \n",
       "2              JANSSEN          4391604             4391604   \n",
       "3      PFIZER/BIONTECH         29984411             1841030   \n",
       "\n",
       "   porcento_fabricante  \n",
       "0                47.48  \n",
       "1                40.89  \n",
       "2                 8.20  \n",
       "3                 3.44  "
      ]
     },
     "metadata": {},
     "execution_count": 26
    }
   ],
   "metadata": {}
  },
  {
   "cell_type": "code",
   "execution_count": 27,
   "source": [
    "# Plotando os valores em porcentagem das vacinas aplicadas no país:\r\n",
    "sns.barplot(y= 'por cento_fabricante', x='Fabricante', data=df_vac, palette='viridis')\r\n",
    "plt.title(\"Porcentagem de cada Marca/Fabricante de vacinas usadas na imunização\",fontdict= {'size':16})\r\n",
    "plt.xlabel('Fabricante de vacinas')\r\n",
    "plt.ylabel('Porcentagem de cada fabricante utilizada na vacinação completa')\r\n",
    "\r\n",
    "plt.xticks([0, 1, 2, 3], ['CoronaVac', 'Astrazeneca', 'Janssen','Pfizer'])\r\n",
    "plt.show()"
   ],
   "outputs": [
    {
     "output_type": "display_data",
     "data": {
      "image/png": "[encoded data removed]",
      "text/plain": [
       "<Figure size 1152x720 with 1 Axes>"
      ]
     },
     "metadata": {}
    }
   ],
   "metadata": {}
  },
  {
   "cell_type": "markdown",
   "source": [
    "Como observado acima, as quase 60 milhões de doses aplicadas da CoronaVac representam aproximadamente 50% dos imunizantes responsáveis pela completa imunização da população."
   ],
   "metadata": {}
  },
  {
   "cell_type": "markdown",
   "source": [
    "# Parte 2 - Comparando os números por trás das porcentagens de vacinação de covid-19 no Brasil"
   ],
   "metadata": {}
  },
  {
   "cell_type": "markdown",
   "source": [
    "Olhar apenas para os valores em porcentagem da população vacinada, pode não parecer um valor muito alto. Mas quando olhamos para os números absolutos das quantidades de doses que foram e vêm sendo aplicadas, é que temos uma real noção do trabalho que vem sendo realizado pelos profissionais da saúde.\n",
    "  * O número total de doses de vacinas aplicadas no Brasil já ultrapassaram os seus 180 MILHÕES.\n",
    "  * O número total de pessoas vacinadas já ultrapassou os 50 milhões também.\n",
    "  * E o número das doses aplicadas de vacinas que são produzidas ou que têm participação do Brasil, como a CoronaVac e a Astrazeneca já ultrapassaram mais de 140 MILHÕES de doses aplicadas.\n",
    "   "
   ],
   "metadata": {}
  },
  {
   "cell_type": "markdown",
   "source": [
    "### Valores totais de vacinas aplicadas no Brasil por fabricante:"
   ],
   "metadata": {}
  },
  {
   "cell_type": "code",
   "execution_count": 28,
   "source": [
    "# Valores totais de vacinas aplicadas no Brasil por fabricante:\r\n",
    "sns.barplot(y= 'Doses_Aplicadas', x='Fabricante', data=df_vac, palette='viridis')\r\n",
    "plt.title(\"Total de vacinas aplicadas por fabricante\",fontdict= {'size':16})\r\n",
    "plt.xticks([0, 1, 2, 3], ['CoronaVac', 'Astrazeneca', 'Janssen','Pfizer'])\r\n",
    "plt.ylabel('Valores totais de doses aplicadas', fontsize=16)\r\n",
    "plt.xlabel('Fabricante de vacinas')\r\n",
    "plt.yticks([5000000, 30000000, 60000000, 80000000], ['5.000.000', '30.000.000', '60.000.000','80.000.000'])\r\n",
    "plt.show()"
   ],
   "outputs": [
    {
     "output_type": "display_data",
     "data": {
      "image/png": "[encoded data removed]",
      "text/plain": [
       "<Figure size 1152x720 with 1 Axes>"
      ]
     },
     "metadata": {}
    }
   ],
   "metadata": {}
  },
  {
   "cell_type": "markdown",
   "source": [
    "### Número total de vacinas aplicadas nos estados brasileiros"
   ],
   "metadata": {}
  },
  {
   "cell_type": "markdown",
   "source": [
    "Neste gráfico o intuito é mostrar os valores absolutos das doses aplicadas nos estados brasileiros. É importante salientar que a discrepância dos valores do gráfico não refletem uma real situação do andamento da vacinação nos estados brasileiros, já que a distribuição das vacinas é feita de forma proporcional ao tamanho da população.  \n",
    "\n",
    "Por isso, o estado de São Paulo possui um valor de doses aplicadas tão elevado, já que esse também possui a maior população do País. Seguido por Minas Gerais e Rio de Janeiro, 2º e 3º maior população respectivamente."
   ],
   "metadata": {}
  },
  {
   "cell_type": "code",
   "execution_count": 29,
   "source": [
    "# Agrupando os dados por estados:\r\n",
    "total_vacina = df2.groupby(df2['UF'], as_index=False)['quantidade'].sum()\r\n",
    "sns.barplot(y= 'quantidade', x='UF', data=total_vacina, palette='viridis')\r\n",
    "plt.title('Número total de vacinas aplicadas nos estados brasileiros desde o início da vacinação', fontsize=16)\r\n",
    "plt.xlabel('Estados brasileiros')\r\n",
    "plt.ylabel('Nº de vacinas aplicadas')\r\n",
    "plt.yticks([5000000, 15000000, 25000000, 35000000, 45000000], ['5.000.000','15.000.000', '25.000.000', '35.000.000','45.000.000'])\r\n",
    "plt.show()"
   ],
   "outputs": [
    {
     "output_type": "display_data",
     "data": {
      "image/png": "[encoded data removed]",
      "text/plain": [
       "<Figure size 1152x720 with 1 Axes>"
      ]
     },
     "metadata": {}
    }
   ],
   "metadata": {}
  },
  {
   "cell_type": "markdown",
   "source": [
    "### Média diária das doses de vacinas aplicadas nos estados brasileiros.\n",
    "Esta média foi realizada levando em consideração o início da vacinação em 17 de janeiro de 2021"
   ],
   "metadata": {}
  },
  {
   "cell_type": "code",
   "execution_count": 30,
   "source": [
    "# Média diária das doses de vacina aplicadas no Brasil\r\n",
    "med_doses_apli = df2.quantidade.mean()\r\n",
    "print('A média diária de doses aplicadas nos estados brasileiros é de: {:.0f} mil doses'.format(med_doses_apli))"
   ],
   "outputs": [
    {
     "output_type": "stream",
     "name": "stdout",
     "text": [
      "A média diária de doses aplicadas nos estados brasileiros é de: 28777 mil doses\n"
     ]
    }
   ],
   "metadata": {}
  },
  {
   "cell_type": "code",
   "execution_count": 31,
   "source": [
    "# Média diária do valor absoluto de vacinas aplicadas diariamente nos estados brasileiros\r\n",
    "med_dia = df2.groupby(df2['UF'], as_index=False)['quantidade'].mean()\r\n",
    "sns.barplot(y= 'quantidade', x='UF', data=med_dia, palette='viridis')\r\n",
    "plt.title('Média diária de vacinas aplicadas nos estados brasileiros desde o início da vacinação', fontsize=16)\r\n",
    "plt.xlabel('Estados brasileiros')\r\n",
    "plt.ylabel('Nº de vacinas aplicadas')\r\n",
    "print(med_doses_apli)\r\n",
    "plt.text(1, 205000, '{:.0f} mil doses é a média de vacinas aplicadas diariamente no Brasil'.format(med_doses_apli), fontsize=12, bbox=dict(facecolor='red', alpha=0.3))\r\n",
    "plt.yticks([10000, 50000, 100000, 150000, 200000], ['10.000','50.000', '100.000', '150.000','200.000'])\r\n",
    "plt.show()"
   ],
   "outputs": [
    {
     "output_type": "stream",
     "name": "stdout",
     "text": [
      "28777.499228262735\n"
     ]
    },
    {
     "output_type": "display_data",
     "data": {
      "image/png": "[encoded data removed]",
      "text/plain": [
       "<Figure size 1152x720 with 1 Axes>"
      ]
     },
     "metadata": {}
    }
   ],
   "metadata": {}
  },
  {
   "cell_type": "markdown",
   "source": [
    "### Para servir de comparação, abaixo encontra-se a população de alguns países com população nacional entre 15 milhões e 50 milhoes.\n",
    "   * Atualmente, o números que temos de pessoas completamente vacinadas já supera a população de mais de 200 países, considerando uma população de até 50 milhões.\n",
    "   * Ou ainda a vacinaçãoa completa de alguns países juntos."
   ],
   "metadata": {}
  },
  {
   "cell_type": "code",
   "execution_count": 32,
   "source": [
    "# Gráfico com países com população entre 15.000.000 e 50.000.000\r\n",
    "sns.barplot(data=world50M, x='Country', y= 'Population_2020')\r\n",
    "plt.xticks(rotation=70)\r\n",
    "plt.yticks([15000000, 30000000, 45000000], ['10.000.000', '30.000.000','45.000.000'])\r\n",
    "plt.title('População de alguns países', fontsize=16)\r\n",
    "plt.text(10, 46000000, f'Número de pessoas completamente vacinadas no Brasil {total_vacinado} Milhões', fontsize=12, bbox=dict(facecolor='red', alpha=0.3))\r\n",
    "plt.show()"
   ],
   "outputs": [
    {
     "output_type": "display_data",
     "data": {
      "image/png": "[encoded data removed]",
      "text/plain": [
       "<Figure size 1152x720 with 1 Axes>"
      ]
     },
     "metadata": {}
    }
   ],
   "metadata": {}
  },
  {
   "cell_type": "markdown",
   "source": [
    "### Abaixo se encontra o gráfico com países de população menor que 5 milhões de habitantes"
   ],
   "metadata": {}
  },
  {
   "cell_type": "code",
   "execution_count": 33,
   "source": [
    "# Gráfico com países com população até 5.000.000\r\n",
    "sns.barplot(data=world5M, x='Country', y= 'Population_2020')\r\n",
    "plt.xticks(rotation=90)\r\n",
    "plt.xlabel('Países')\r\n",
    "plt.yticks([1000000, 2000000, 3000000, 5000000], ['1.000.000', '2.000.000','3.000.000', '5.000.000'])\r\n",
    "plt.ylabel('População em 2020')\r\n",
    "plt.title('População de alguns países', fontsize=16)\r\n",
    "plt.text(30, 4900000, f'Número de pessoas completamente vacinadas no Brasil {total_vacinado} Milhões', fontsize=12, bbox=dict(facecolor='red', alpha=0.3))\r\n",
    "plt.show()"
   ],
   "outputs": [
    {
     "output_type": "display_data",
     "data": {
      "image/png": "[encoded data removed]",
      "text/plain": [
       "<Figure size 1152x720 with 1 Axes>"
      ]
     },
     "metadata": {}
    }
   ],
   "metadata": {}
  },
  {
   "cell_type": "markdown",
   "source": [
    "O número de pessoas completamente imunizadas no Brasil é de 50 milhões. Esse número representa mais do que suficiente para vacinar a população inteira de mais 10 países juntos. E representa ainda mais, se compararmos com países com população abaixo de 3 milhões."
   ],
   "metadata": {}
  },
  {
   "cell_type": "markdown",
   "source": [
    "# Parte 3 - Comparando os casos de Covid-19 e a vacinação no Brasil."
   ],
   "metadata": {}
  },
  {
   "cell_type": "code",
   "execution_count": 34,
   "source": [
    "# Criando um df com os valores totais da vacinaçao mensal do país\r\n",
    "df2_M = df2.resample('M').sum()\r\n",
    "df2_M"
   ],
   "outputs": [
    {
     "output_type": "execute_result",
     "data": {
      "text/html": [
       "<div>\n",
       "<style scoped>\n",
       "    .dataframe tbody tr th:only-of-type {\n",
       "        vertical-align: middle;\n",
       "    }\n",
       "\n",
       "    .dataframe tbody tr th {\n",
       "        vertical-align: top;\n",
       "    }\n",
       "\n",
       "    .dataframe thead th {\n",
       "        text-align: right;\n",
       "    }\n",
       "</style>\n",
       "<table border=\"1\" class=\"dataframe\">\n",
       "  <thead>\n",
       "    <tr style=\"text-align: right;\">\n",
       "      <th></th>\n",
       "      <th>quantidade</th>\n",
       "    </tr>\n",
       "    <tr>\n",
       "      <th>data</th>\n",
       "      <th></th>\n",
       "    </tr>\n",
       "  </thead>\n",
       "  <tbody>\n",
       "    <tr>\n",
       "      <th>2021-01-31</th>\n",
       "      <td>3071787</td>\n",
       "    </tr>\n",
       "    <tr>\n",
       "      <th>2021-02-28</th>\n",
       "      <td>6693686</td>\n",
       "    </tr>\n",
       "    <tr>\n",
       "      <th>2021-03-31</th>\n",
       "      <td>16928526</td>\n",
       "    </tr>\n",
       "    <tr>\n",
       "      <th>2021-04-30</th>\n",
       "      <td>23417378</td>\n",
       "    </tr>\n",
       "    <tr>\n",
       "      <th>2021-05-31</th>\n",
       "      <td>21099644</td>\n",
       "    </tr>\n",
       "    <tr>\n",
       "      <th>2021-06-30</th>\n",
       "      <td>30427963</td>\n",
       "    </tr>\n",
       "    <tr>\n",
       "      <th>2021-07-31</th>\n",
       "      <td>38881875</td>\n",
       "    </tr>\n",
       "    <tr>\n",
       "      <th>2021-08-31</th>\n",
       "      <td>27280739</td>\n",
       "    </tr>\n",
       "  </tbody>\n",
       "</table>\n",
       "</div>"
      ],
      "text/plain": [
       "            quantidade\n",
       "data                  \n",
       "2021-01-31     3071787\n",
       "2021-02-28     6693686\n",
       "2021-03-31    16928526\n",
       "2021-04-30    23417378\n",
       "2021-05-31    21099644\n",
       "2021-06-30    30427963\n",
       "2021-07-31    38881875\n",
       "2021-08-31    27280739"
      ]
     },
     "metadata": {},
     "execution_count": 34
    }
   ],
   "metadata": {}
  },
  {
   "cell_type": "code",
   "execution_count": 35,
   "source": [
    "# Realizando um loop sobre o df2_M para criar uma nova coluna com os valores acumulados das doses de vacinas aplicadas ao longo \r\n",
    "# do período de vacinação.\r\n",
    "col= []\r\n",
    "a = 0\r\n",
    "for idx, val in df2_M.quantidade.iteritems():\r\n",
    "    a+=val\r\n",
    "    col.append(a)\r\n",
    "\r\n",
    "# Criando a nova coluna\r\n",
    "df2_M['Doses_aplicadas'] = col\r\n",
    "\r\n",
    "# Conferindo o df\r\n",
    "df2_M"
   ],
   "outputs": [
    {
     "output_type": "execute_result",
     "data": {
      "text/html": [
       "<div>\n",
       "<style scoped>\n",
       "    .dataframe tbody tr th:only-of-type {\n",
       "        vertical-align: middle;\n",
       "    }\n",
       "\n",
       "    .dataframe tbody tr th {\n",
       "        vertical-align: top;\n",
       "    }\n",
       "\n",
       "    .dataframe thead th {\n",
       "        text-align: right;\n",
       "    }\n",
       "</style>\n",
       "<table border=\"1\" class=\"dataframe\">\n",
       "  <thead>\n",
       "    <tr style=\"text-align: right;\">\n",
       "      <th></th>\n",
       "      <th>quantidade</th>\n",
       "      <th>Doses_aplicadas</th>\n",
       "    </tr>\n",
       "    <tr>\n",
       "      <th>data</th>\n",
       "      <th></th>\n",
       "      <th></th>\n",
       "    </tr>\n",
       "  </thead>\n",
       "  <tbody>\n",
       "    <tr>\n",
       "      <th>2021-01-31</th>\n",
       "      <td>3071787</td>\n",
       "      <td>3071787</td>\n",
       "    </tr>\n",
       "    <tr>\n",
       "      <th>2021-02-28</th>\n",
       "      <td>6693686</td>\n",
       "      <td>9765473</td>\n",
       "    </tr>\n",
       "    <tr>\n",
       "      <th>2021-03-31</th>\n",
       "      <td>16928526</td>\n",
       "      <td>26693999</td>\n",
       "    </tr>\n",
       "    <tr>\n",
       "      <th>2021-04-30</th>\n",
       "      <td>23417378</td>\n",
       "      <td>50111377</td>\n",
       "    </tr>\n",
       "    <tr>\n",
       "      <th>2021-05-31</th>\n",
       "      <td>21099644</td>\n",
       "      <td>71211021</td>\n",
       "    </tr>\n",
       "    <tr>\n",
       "      <th>2021-06-30</th>\n",
       "      <td>30427963</td>\n",
       "      <td>101638984</td>\n",
       "    </tr>\n",
       "    <tr>\n",
       "      <th>2021-07-31</th>\n",
       "      <td>38881875</td>\n",
       "      <td>140520859</td>\n",
       "    </tr>\n",
       "    <tr>\n",
       "      <th>2021-08-31</th>\n",
       "      <td>27280739</td>\n",
       "      <td>167801598</td>\n",
       "    </tr>\n",
       "  </tbody>\n",
       "</table>\n",
       "</div>"
      ],
      "text/plain": [
       "            quantidade  Doses_aplicadas\n",
       "data                                   \n",
       "2021-01-31     3071787          3071787\n",
       "2021-02-28     6693686          9765473\n",
       "2021-03-31    16928526         26693999\n",
       "2021-04-30    23417378         50111377\n",
       "2021-05-31    21099644         71211021\n",
       "2021-06-30    30427963        101638984\n",
       "2021-07-31    38881875        140520859\n",
       "2021-08-31    27280739        167801598"
      ]
     },
     "metadata": {},
     "execution_count": 35
    }
   ],
   "metadata": {}
  },
  {
   "cell_type": "code",
   "execution_count": 36,
   "source": [
    "# Criando um df com os dados de covid reagrupados por mês.\r\n",
    "df_covid_M = df_covid.resample('M').max()\r\n",
    "df_covid_M.head()"
   ],
   "outputs": [
    {
     "output_type": "execute_result",
     "data": {
      "text/html": [
       "<div>\n",
       "<style scoped>\n",
       "    .dataframe tbody tr th:only-of-type {\n",
       "        vertical-align: middle;\n",
       "    }\n",
       "\n",
       "    .dataframe tbody tr th {\n",
       "        vertical-align: top;\n",
       "    }\n",
       "\n",
       "    .dataframe thead th {\n",
       "        text-align: right;\n",
       "    }\n",
       "</style>\n",
       "<table border=\"1\" class=\"dataframe\">\n",
       "  <thead>\n",
       "    <tr style=\"text-align: right;\">\n",
       "      <th></th>\n",
       "      <th>regiao</th>\n",
       "      <th>casosAcumulado</th>\n",
       "      <th>casosNovos</th>\n",
       "      <th>obitosAcumulado</th>\n",
       "      <th>obitosNovos</th>\n",
       "    </tr>\n",
       "    <tr>\n",
       "      <th>data</th>\n",
       "      <th></th>\n",
       "      <th></th>\n",
       "      <th></th>\n",
       "      <th></th>\n",
       "      <th></th>\n",
       "    </tr>\n",
       "  </thead>\n",
       "  <tbody>\n",
       "    <tr>\n",
       "      <th>2020-02-29</th>\n",
       "      <td>Brasil</td>\n",
       "      <td>2.00</td>\n",
       "      <td>1</td>\n",
       "      <td>0</td>\n",
       "      <td>0</td>\n",
       "    </tr>\n",
       "    <tr>\n",
       "      <th>2020-03-31</th>\n",
       "      <td>Brasil</td>\n",
       "      <td>5,717.00</td>\n",
       "      <td>1138</td>\n",
       "      <td>201</td>\n",
       "      <td>42</td>\n",
       "    </tr>\n",
       "    <tr>\n",
       "      <th>2020-04-30</th>\n",
       "      <td>Brasil</td>\n",
       "      <td>85,380.00</td>\n",
       "      <td>7218</td>\n",
       "      <td>5901</td>\n",
       "      <td>474</td>\n",
       "    </tr>\n",
       "    <tr>\n",
       "      <th>2020-05-31</th>\n",
       "      <td>Brasil</td>\n",
       "      <td>514,200.00</td>\n",
       "      <td>33274</td>\n",
       "      <td>29314</td>\n",
       "      <td>1188</td>\n",
       "    </tr>\n",
       "    <tr>\n",
       "      <th>2020-06-30</th>\n",
       "      <td>Brasil</td>\n",
       "      <td>1,402,041.00</td>\n",
       "      <td>54771</td>\n",
       "      <td>59594</td>\n",
       "      <td>1473</td>\n",
       "    </tr>\n",
       "  </tbody>\n",
       "</table>\n",
       "</div>"
      ],
      "text/plain": [
       "            regiao  casosAcumulado  casosNovos  obitosAcumulado  obitosNovos\n",
       "data                                                                        \n",
       "2020-02-29  Brasil            2.00           1                0            0\n",
       "2020-03-31  Brasil        5,717.00        1138              201           42\n",
       "2020-04-30  Brasil       85,380.00        7218             5901          474\n",
       "2020-05-31  Brasil      514,200.00       33274            29314         1188\n",
       "2020-06-30  Brasil    1,402,041.00       54771            59594         1473"
      ]
     },
     "metadata": {},
     "execution_count": 36
    }
   ],
   "metadata": {}
  },
  {
   "cell_type": "markdown",
   "source": [
    "### Relação entre a vacinação e os casos de covid-19"
   ],
   "metadata": {}
  },
  {
   "cell_type": "code",
   "execution_count": 37,
   "source": [
    "# Comparando covid e casos de vacinação por dia\r\n",
    "fig , axes = plt.subplots(3, 1, figsize = (10, 16))\r\n",
    "\r\n",
    "plt.suptitle('Comparando os principais números por trás da vacinação')\r\n",
    "sns.lineplot(data=df_covid, x=df_covid.index, y=df_covid.CasosNovos, ax=axes[0])\r\n",
    "sns.lineplot(data=df_covid, x=df_covid.index, y=df_covid.ObitosNovos, ax=axes[1])\r\n",
    "sns.lineplot(data=df2_M, x=df2_M.index, y=df2_M.Doses_aplicadas, ax=axes[2])\r\n",
    "\r\n",
    "\r\n",
    "plt.xticks(rotation=90)\r\n",
    "\r\n",
    "plt.tight_layout()\r\n",
    "plt.show()"
   ],
   "outputs": [
    {
     "output_type": "display_data",
     "data": {
      "image/png": "[encoded data removed]",
      "text/plain": [
       "<Figure size 720x1152 with 3 Axes>"
      ]
     },
     "metadata": {}
    }
   ],
   "metadata": {}
  },
  {
   "cell_type": "markdown",
   "source": [
    "Os resultados acima mostram uma relação de redução dos números totais de casos e óbitos por covid-19 com a progressão da vacinação.  \n",
    "\n",
    "Os números de mortes por covid-19 começam a cair já em maio de 2021, quando atingimos o primeiro pico de vacinação, que representa aproximadamente 50 milhões de doses aplicadas.  \n",
    "\n",
    "Já os números de casos começam a diminuir a partir de julho, quando o número de doses aplicadas foram por volta de 100 milhões. E até o mês desta análise, agosto, os números já superam os 170 milhões de doses aplicadas.  \n",
    "\n",
    "Vale apena ressaltar que apesar da diminuição dos casos de covid com a vacinação, ainda temos muito do que nos preocupar. Já temos novas variantes do vírus circulante, e não temos total certeza de como esses números irão se comportar daqui para frente. Por isso, as medidas de distanciamente e prevenções ainda são recomendadas pelas autoridades de saúde.\n",
    "\n"
   ],
   "metadata": {}
  },
  {
   "cell_type": "markdown",
   "source": [
    "# Atualizando as tabelas no banco de dados SQLite"
   ],
   "metadata": {}
  },
  {
   "cell_type": "code",
   "execution_count": 38,
   "source": [
    "# Criando uma nova coluna na tabela vacinacao_covid19 no banco de dados covid19  \r\n",
    "cursor.execute('ALTER TABLE vacinacao ADD COLUMN vacinacao_completa INT')  \r\n",
    "connection.commit()  "
   ],
   "outputs": [],
   "metadata": {}
  },
  {
   "cell_type": "code",
   "execution_count": 39,
   "source": [
    "# Limpando os dados não conformes incorretamente:\r\n",
    "cursor.execute(\"DELETE FROM vacinacao WHERE Fabricante = '-' \")\r\n",
    "connection.commit()"
   ],
   "outputs": [],
   "metadata": {}
  },
  {
   "cell_type": "code",
   "execution_count": 40,
   "source": [
    "# Criando uma lista de valores a serem inseridos na tabela vacinação no MySQL  \r\n",
    "values = [i for i in df.vacinacao_completa.to_list()]\r\n",
    "print(type(values))  \r\n",
    "print(len(values)) \r\n",
    "#print(values)  "
   ],
   "outputs": [
    {
     "output_type": "stream",
     "name": "stdout",
     "text": [
      "<class 'list'>\n",
      "21793\n"
     ]
    }
   ],
   "metadata": {}
  },
  {
   "cell_type": "code",
   "execution_count": 41,
   "source": [
    "# Atualizando dados da coluna \"Vacinacao_completa\" na tabela vacinação:\r\n",
    "row = 0\r\n",
    "for i in range(0, len(values)):\r\n",
    "    row +=1\r\n",
    "    val = values[i]\r\n",
    "    sql = f\"UPDATE vacinacao SET vacinacao_completa = {val} WHERE id = {row}\"\r\n",
    "    cursor.execute(sql)\r\n",
    "    connection.commit()\r\n",
    "print('Dados atualizados com sucesso!')"
   ],
   "outputs": [
    {
     "output_type": "stream",
     "name": "stdout",
     "text": [
      "Dados atualizados com sucesso!\n"
     ]
    }
   ],
   "metadata": {}
  },
  {
   "cell_type": "code",
   "execution_count": 42,
   "source": [
    "#### Verificando se as alterações foram inseridas na tabela vacinação.  \r\n",
    "df = pd.read_sql_query(\"SELECT * FROM vacinacao\", connection)  \r\n",
    "df.head()  "
   ],
   "outputs": [
    {
     "output_type": "execute_result",
     "data": {
      "text/html": [
       "<div>\n",
       "<style scoped>\n",
       "    .dataframe tbody tr th:only-of-type {\n",
       "        vertical-align: middle;\n",
       "    }\n",
       "\n",
       "    .dataframe tbody tr th {\n",
       "        vertical-align: top;\n",
       "    }\n",
       "\n",
       "    .dataframe thead th {\n",
       "        text-align: right;\n",
       "    }\n",
       "</style>\n",
       "<table border=\"1\" class=\"dataframe\">\n",
       "  <thead>\n",
       "    <tr style=\"text-align: right;\">\n",
       "      <th></th>\n",
       "      <th>id</th>\n",
       "      <th>Municipio</th>\n",
       "      <th>Cod_IBGE</th>\n",
       "      <th>UF</th>\n",
       "      <th>Regiao</th>\n",
       "      <th>Fabricante</th>\n",
       "      <th>Doses_Aplicadas</th>\n",
       "      <th>Dose_1</th>\n",
       "      <th>Dose_2</th>\n",
       "      <th>vacinacao_completa</th>\n",
       "    </tr>\n",
       "  </thead>\n",
       "  <tbody>\n",
       "    <tr>\n",
       "      <th>0</th>\n",
       "      <td>1</td>\n",
       "      <td>Abadia De Goiás</td>\n",
       "      <td>520005</td>\n",
       "      <td>GO</td>\n",
       "      <td>Centro-Oeste</td>\n",
       "      <td>FIOCRUZ/ASTRAZENECA</td>\n",
       "      <td>3450</td>\n",
       "      <td>2633</td>\n",
       "      <td>817</td>\n",
       "      <td>817.00</td>\n",
       "    </tr>\n",
       "    <tr>\n",
       "      <th>1</th>\n",
       "      <td>2</td>\n",
       "      <td>Abadia De Goiás</td>\n",
       "      <td>520005</td>\n",
       "      <td>GO</td>\n",
       "      <td>Centro-Oeste</td>\n",
       "      <td>BUTANTAN/SINOVAC</td>\n",
       "      <td>3068</td>\n",
       "      <td>1661</td>\n",
       "      <td>1407</td>\n",
       "      <td>1,407.00</td>\n",
       "    </tr>\n",
       "    <tr>\n",
       "      <th>2</th>\n",
       "      <td>3</td>\n",
       "      <td>Abadia De Goiás</td>\n",
       "      <td>520005</td>\n",
       "      <td>GO</td>\n",
       "      <td>Centro-Oeste</td>\n",
       "      <td>PFIZER/BIONTECH</td>\n",
       "      <td>1125</td>\n",
       "      <td>1125</td>\n",
       "      <td>0</td>\n",
       "      <td>0.00</td>\n",
       "    </tr>\n",
       "    <tr>\n",
       "      <th>3</th>\n",
       "      <td>4</td>\n",
       "      <td>Abadia De Goiás</td>\n",
       "      <td>520005</td>\n",
       "      <td>GO</td>\n",
       "      <td>Centro-Oeste</td>\n",
       "      <td>JANSSEN</td>\n",
       "      <td>65</td>\n",
       "      <td>0</td>\n",
       "      <td>0</td>\n",
       "      <td>65.00</td>\n",
       "    </tr>\n",
       "    <tr>\n",
       "      <th>4</th>\n",
       "      <td>5</td>\n",
       "      <td>Abadia Dos Dourados</td>\n",
       "      <td>310010</td>\n",
       "      <td>MG</td>\n",
       "      <td>Sudeste</td>\n",
       "      <td>FIOCRUZ/ASTRAZENECA</td>\n",
       "      <td>3624</td>\n",
       "      <td>2711</td>\n",
       "      <td>913</td>\n",
       "      <td>913.00</td>\n",
       "    </tr>\n",
       "  </tbody>\n",
       "</table>\n",
       "</div>"
      ],
      "text/plain": [
       "   id            Municipio  Cod_IBGE  UF        Regiao           Fabricante  \\\n",
       "0   1      Abadia De Goiás    520005  GO  Centro-Oeste  FIOCRUZ/ASTRAZENECA   \n",
       "1   2      Abadia De Goiás    520005  GO  Centro-Oeste     BUTANTAN/SINOVAC   \n",
       "2   3      Abadia De Goiás    520005  GO  Centro-Oeste      PFIZER/BIONTECH   \n",
       "3   4      Abadia De Goiás    520005  GO  Centro-Oeste              JANSSEN   \n",
       "4   5  Abadia Dos Dourados    310010  MG       Sudeste  FIOCRUZ/ASTRAZENECA   \n",
       "\n",
       "   Doses_Aplicadas  Dose_1  Dose_2  vacinacao_completa  \n",
       "0             3450    2633     817              817.00  \n",
       "1             3068    1661    1407            1,407.00  \n",
       "2             1125    1125       0                0.00  \n",
       "3               65       0       0               65.00  \n",
       "4             3624    2711     913              913.00  "
      ]
     },
     "metadata": {},
     "execution_count": 42
    }
   ],
   "metadata": {}
  },
  {
   "cell_type": "markdown",
   "source": [
    "## Encerrando a cenexão com o Banco de dados:"
   ],
   "metadata": {}
  },
  {
   "cell_type": "code",
   "execution_count": 43,
   "source": [
    "# Encerrando a conexão com o servidor:\r\n",
    "''' Deixar conexões abertas sem utilização pode levar a erros inesperados e problemas de desempenho, \r\n",
    "por isso fecha-las é uma boa prática.'''\r\n",
    "cursor.close()\r\n",
    "connection.close()\r\n",
    "print(\"\\n************************* Conexão encerrada com o servidor MySQL *************************\")"
   ],
   "outputs": [
    {
     "output_type": "stream",
     "name": "stdout",
     "text": [
      "\n",
      "************************* Conexão encerrada com o servidor MySQL *************************\n"
     ]
    }
   ],
   "metadata": {}
  },
  {
   "cell_type": "markdown",
   "source": [
    "## Referências:  \r\n",
    "https://realpython.com/python-mysql/  \r\n",
    "https://www.w3schools.com/python/python_mysql_getstarted.asp  \r\n",
    "\r\n",
    "#### Dados baixados dia 19/08/2021\r\n",
    "https://covid.saude.gov.br/  \r\n",
    "https://qsprod.saude.gov.br/extensions/DEMAS_C19Vacina/DEMAS_C19Vacina.html"
   ],
   "metadata": {}
  }
 ],
 "metadata": {
  "interpreter": {
   "hash": "b265fc3a680d325002980f829fb1bcee6610f7bdea5824ef0d9dfaee8a0463ae"
  },
  "kernelspec": {
   "name": "python3",
   "display_name": "Python 3.8.11 64-bit ('sql-env': conda)"
  },
  "language_info": {
   "codemirror_mode": {
    "name": "ipython",
    "version": 3
   },
   "file_extension": ".py",
   "mimetype": "text/x-python",
   "name": "python",
   "nbconvert_exporter": "python",
   "pygments_lexer": "ipython3",
   "version": "3.8.11"
  }
 },
 "nbformat": 4,
 "nbformat_minor": 2
}